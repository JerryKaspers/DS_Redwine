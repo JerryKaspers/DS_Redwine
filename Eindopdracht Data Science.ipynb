{
 "cells": [
  {
   "cell_type": "markdown",
   "metadata": {},
   "source": [
    "# Rode wijn in Portugal\n",
    "\n",
    "Voor de Data Science casusopdracht heeft onze groep de rode wijn data set als onderzoekopdracht. In het eerste gedeelte van dit document zal er een een verkenning van de data plaatsvinden, waardoor er gerichte en interessante onderzoeksvragen opgesteld kunnen worden.\n",
    "\n",
    "## Verkenning\n",
    "\n",
    "Als eerste stap van de verkenning zal er onderzoek gedaan worden naar de huidige velden en de mogelijke verbeteringen aan de data set."
   ]
  },
  {
   "cell_type": "code",
   "execution_count": null,
   "metadata": {},
   "outputs": [],
   "source": [
    "import numpy as np\n",
    "import pandas as pd"
   ]
  },
  {
   "cell_type": "code",
   "execution_count": null,
   "metadata": {},
   "outputs": [],
   "source": [
    "redwine = pd.read_csv('redwine.csv', sep=';')\n",
    "redwine.head()"
   ]
  },
  {
   "cell_type": "code",
   "execution_count": null,
   "metadata": {},
   "outputs": [],
   "source": [
    "redwine.set_index('id', inplace=True)"
   ]
  },
  {
   "cell_type": "code",
   "execution_count": null,
   "metadata": {
    "scrolled": false
   },
   "outputs": [],
   "source": [
    "# Eerst eens bekijken hoeveel records we op dit moment hebben\n",
    "len(redwine)"
   ]
  },
  {
   "cell_type": "code",
   "execution_count": null,
   "metadata": {
    "scrolled": true
   },
   "outputs": [],
   "source": [
    "# Bekijken hoeveel records het scheelt met ontbrekende waardes\n",
    "len(redwine.dropna())"
   ]
  },
  {
   "cell_type": "markdown",
   "metadata": {},
   "source": [
    "Hier zit best een fors verschil tussen, waardoor er met meer detail naar de data gekeken moet worden.\n",
    "\n",
    "Daarnaast valt het ons op dat de country en variety velden allemaal gelijke data bevatten, waardoor deze irrelevant zijn."
   ]
  },
  {
   "cell_type": "code",
   "execution_count": null,
   "metadata": {},
   "outputs": [],
   "source": [
    "redwine.drop(['country', 'variety'], axis=1, inplace=True)\n",
    "redwine.head()"
   ]
  },
  {
   "cell_type": "markdown",
   "metadata": {},
   "source": [
    "Hieronder tellen we het aantal rijen met missende data per kolom."
   ]
  },
  {
   "cell_type": "code",
   "execution_count": null,
   "metadata": {},
   "outputs": [],
   "source": [
    "redwine.isna().sum()"
   ]
  },
  {
   "cell_type": "markdown",
   "metadata": {},
   "source": [
    "Het valt op dat alle missende data voorkomt bij designation en price.\n",
    "\n",
    "### Tweede dataset\n",
    "\n",
    "Als tweede dataset is er een set gepakt welke ook de zelfde chemische samenstellingen bevat als de huidige set, alleen is deze gericht op witte wijnen. "
   ]
  },
  {
   "cell_type": "code",
   "execution_count": null,
   "metadata": {},
   "outputs": [],
   "source": [
    "whitewine = pd.read_csv('winequality-white.csv', sep=';')\n",
    "whitewine.head()"
   ]
  },
  {
   "cell_type": "markdown",
   "metadata": {},
   "source": [
    "Wat ook te zien is, is dat deze dus geen scores hebben van personen die de wijn geproefd hebben, maar dat er een qualiteitscijfer aan toegekend is."
   ]
  },
  {
   "cell_type": "markdown",
   "metadata": {},
   "source": [
    "## Onderzoeksvragen\n",
    "\n",
    "Een eis voor het voltooien van deze casus is het opstellen (en beantwoorden) van onderzoeksvragen. Hierbij moet er rekening gehouden worden met de data die is aangeleverd en moet er een combinatie gemaakt worden met een externe set van data.\n",
    "\n",
    "In het vorige gedeelte is een externe set verkend, welke betrekking heeft op witte wijnen in plaats van rode.\n",
    "\n",
    "Met deze twee datasets en alle gegevens erin zijn we tot de volgende onderzoeksvragen gekomen:\n",
    "\n",
    "-\tIn hoeverre is de score van een Portugese Red te voorspellen op basis van de chemische kenmerken?\n",
    "-\tWelke stof in de wijn heeft het meeste invloed op de prijs?\n",
    "-\tZijn er proefpersonen die gemiddeld hogere waarderingen geven?\n",
    "-\tWat zijn de verschillen in verhoudingen van de chemische kenmerken bij rode tov witte wijnen?\n"
   ]
  }
 ],
 "metadata": {
  "kernelspec": {
   "display_name": "Python 3",
   "language": "python",
   "name": "python3"
  },
  "language_info": {
   "codemirror_mode": {
    "name": "ipython",
    "version": 3
   },
   "file_extension": ".py",
   "mimetype": "text/x-python",
   "name": "python",
   "nbconvert_exporter": "python",
   "pygments_lexer": "ipython3",
   "version": "3.7.2"
  }
 },
 "nbformat": 4,
 "nbformat_minor": 2
}
