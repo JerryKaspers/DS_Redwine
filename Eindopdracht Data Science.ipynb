{
 "cells": [
  {
   "cell_type": "markdown",
   "metadata": {},
   "source": [
    "# Rode wijn in Portugal\n",
    "\n",
    "Voor de Data Science casusopdracht heeft onze groep de rode wijn data set als onderzoekopdracht. In het eerste gedeelte van dit document zal er een een verkenning van de data plaatsvinden, waardoor er gerichte en interessante onderzoeksvragen opgesteld kunnen worden.\n",
    "\n",
    "## Verkenning\n",
    "\n",
    "Als eerste stap van de verkenning zal er onderzoek gedaan worden naar de huidige velden en de mogelijke verbeteringen aan de data set."
   ]
  },
  {
   "cell_type": "code",
   "execution_count": null,
   "metadata": {
    "scrolled": true
   },
   "outputs": [],
   "source": [
    "import numpy as np\n",
    "import pandas as pd\n",
    "import matplotlib.pyplot as plt\n",
    "import seaborn as sns"
   ]
  },
  {
   "cell_type": "code",
   "execution_count": null,
   "metadata": {
    "scrolled": false
   },
   "outputs": [],
   "source": [
    "redwine = pd.read_csv('redwine.csv', sep=';')\n",
    "redwine.head()"
   ]
  },
  {
   "cell_type": "code",
   "execution_count": null,
   "metadata": {
    "scrolled": true
   },
   "outputs": [],
   "source": [
    "redwine.set_index('id', inplace=True)"
   ]
  },
  {
   "cell_type": "code",
   "execution_count": null,
   "metadata": {
    "scrolled": true
   },
   "outputs": [],
   "source": [
    "# Eerst eens bekijken hoeveel records we op dit moment hebben\n",
    "len(redwine)"
   ]
  },
  {
   "cell_type": "code",
   "execution_count": null,
   "metadata": {
    "scrolled": false
   },
   "outputs": [],
   "source": [
    "# Bekijken hoeveel records het scheelt met ontbrekende waardes\n",
    "len(redwine.dropna())"
   ]
  },
  {
   "cell_type": "markdown",
   "metadata": {},
   "source": [
    "Hier zit best een fors verschil tussen, waardoor er met meer detail naar de data gekeken moet worden.\n",
    "\n",
    "Daarnaast valt het ons op dat de country en variety velden allemaal gelijke data bevatten, waardoor deze irrelevant zijn."
   ]
  },
  {
   "cell_type": "code",
   "execution_count": null,
   "metadata": {
    "scrolled": false
   },
   "outputs": [],
   "source": [
    "redwine.drop(['country', 'variety'], axis=1, inplace=True)\n",
    "redwine.head()"
   ]
  },
  {
   "cell_type": "markdown",
   "metadata": {},
   "source": [
    "Hieronder tellen we het aantal rijen met missende data per kolom."
   ]
  },
  {
   "cell_type": "code",
   "execution_count": null,
   "metadata": {
    "scrolled": true
   },
   "outputs": [],
   "source": [
    "redwine.isna().sum()"
   ]
  },
  {
   "cell_type": "markdown",
   "metadata": {},
   "source": [
    "Het valt op dat alle missende data voorkomt bij designation en price, echter zijn er ook een aantal kolommen die niet het goede type zijn. Deze zullen zeer waarschijnlijk dus ook data bevatten die niet als float gecast kan worden."
   ]
  },
  {
   "cell_type": "code",
   "execution_count": null,
   "metadata": {},
   "outputs": [],
   "source": [
    "redwine.dtypes"
   ]
  },
  {
   "cell_type": "code",
   "execution_count": null,
   "metadata": {
    "scrolled": false
   },
   "outputs": [],
   "source": [
    "redwine[np.isnan(pd.to_numeric(redwine[\"density\"], errors=\"coerce\"))]"
   ]
  },
  {
   "cell_type": "markdown",
   "metadata": {},
   "source": [
    "Hieruit blijkt dat er maar 1 rij is waar de density niet klopt, omdat het er maar 1 is, zullen we deze verwijderen uit de dataset."
   ]
  },
  {
   "cell_type": "code",
   "execution_count": null,
   "metadata": {},
   "outputs": [],
   "source": [
    "redwine.drop(1475, inplace=True)\n",
    "redwine[\"density\"] = redwine[\"density\"].astype(\"float\")"
   ]
  },
  {
   "cell_type": "markdown",
   "metadata": {},
   "source": [
    "De andere velden met het type object bevatten meer invalide waardes:"
   ]
  },
  {
   "cell_type": "code",
   "execution_count": null,
   "metadata": {},
   "outputs": [],
   "source": [
    "print(len(redwine[np.isnan(pd.to_numeric(redwine[\"citric acid\"], errors=\"coerce\"))]))\n",
    "print(len(redwine[np.isnan(pd.to_numeric(redwine[\"alcohol\"], errors=\"coerce\"))]))"
   ]
  },
  {
   "cell_type": "markdown",
   "metadata": {},
   "source": [
    "Omdat het bij alcohol ook om maar een aantal waardes gaat, is er gekozen om ook voor de records met ongeldige alcohol waardes de records te verwijderen."
   ]
  },
  {
   "cell_type": "code",
   "execution_count": null,
   "metadata": {},
   "outputs": [],
   "source": [
    "redwine = redwine[~np.isnan(pd.to_numeric(redwine[\"alcohol\"], errors=\"coerce\"))]\n",
    "redwine[\"alcohol\"] = redwine[\"alcohol\"].astype(\"float\")"
   ]
  },
  {
   "cell_type": "markdown",
   "metadata": {},
   "source": [
    "### Tweede dataset\n",
    "\n",
    "Als tweede dataset is er een set gepakt welke ook de zelfde chemische samenstellingen bevat als de huidige set, alleen is deze gericht op witte wijnen. "
   ]
  },
  {
   "cell_type": "code",
   "execution_count": null,
   "metadata": {
    "scrolled": true
   },
   "outputs": [],
   "source": [
    "whitewine = pd.read_csv('winequality-white.csv', sep=';')\n",
    "whitewine.head()"
   ]
  },
  {
   "cell_type": "markdown",
   "metadata": {},
   "source": [
    "In tegenstelling tot bij de rode wijn, is er niet veel informatie over de regio en naamgeving van de wijn beschikbaar. Daarnaast is het een kwaliteitscijfer en niet een waardering van een reviewer, waardoor de cijfers niet direct te vergelijken zijn.\n",
    "\n",
    "Bij de witte wijn set worden alle kolommen wel correct ingelezen:"
   ]
  },
  {
   "cell_type": "code",
   "execution_count": null,
   "metadata": {},
   "outputs": [],
   "source": [
    "whitewine.dtypes"
   ]
  },
  {
   "cell_type": "markdown",
   "metadata": {},
   "source": [
    "\n",
    "#### Histogrammen\n",
    "\n",
    "Om meer inzicht te krijgen in de verdelingen van de stoffen, is voor elke stof een histogram opegsteld. Ook voor de pH, quality en alcohol waardes zijn grafieken gemaakt."
   ]
  },
  {
   "cell_type": "code",
   "execution_count": null,
   "metadata": {
    "scrolled": false
   },
   "outputs": [],
   "source": [
    "sns.set()\n",
    "for column in whitewine.columns.values:\n",
    "    plt.title(column)\n",
    "    if column in redwine:\n",
    "        if redwine[column].dtype != \"object\":\n",
    "            plt.hist(redwine[column], color=\"#ff335577\")\n",
    "    plt.hist(whitewine[column], color=\"#ffff3377\")\n",
    "    plt.show()"
   ]
  },
  {
   "cell_type": "markdown",
   "metadata": {},
   "source": [
    "Het valt hierbij op dat de quality en citric acid geen rode wijnen heeft, omdat de quality niet aanwezig is als veld in de dataset, en omdat citric acid van het type object is. In tegenstelling tot alcohol en density is hier nog geen oplossing voor, omdat er veel meer datapunten missen.\n",
    "\n",
    "Daarnaast is het interessant om te zien dat veel van deze grafieken geen goeie normaalverdeling vormen, wat doet vermoeden dat er een directe aanleiding is voor de verdeling van de stoffen. De grafiek van de pH waardes lijkt nog het meest normaal verdeeld.\n",
    "\n",
    "## Onderzoeksvragen\n",
    "\n",
    "Een eis voor het voltooien van deze casus is het opstellen (en beantwoorden) van onderzoeksvragen. Hierbij moet er rekening gehouden worden met de data die is aangeleverd en moet er een combinatie gemaakt worden met een externe set van data.\n",
    "\n",
    "In het vorige gedeelte is een externe set verkend, welke betrekking heeft op witte wijnen in plaats van rode.\n",
    "\n",
    "Met deze twee datasets en alle gegevens erin zijn we tot de volgende onderzoeksvragen gekomen:\n",
    "\n",
    "- Welke proefpersonen geven gemiddeld meer of minder punten voor een wijn en hoeveel is dit?\n",
    "- Zijn er groepen te onderscheiden in de wijn op basis van de stoffen en de wijnmakerijen?\n",
    "- In hoeverre is de score van een Portugese Red te voorspellen op basis van de chemische kenmerken?\n",
    "- Wat zijn de verschillen in verhoudingen van de chemische kenmerken bij rode t.o.v. witte wijnen?\n"
   ]
  },
  {
   "cell_type": "markdown",
   "metadata": {},
   "source": [
    "## Onderzoeksvraag 1\n",
    "\n",
    "TODO"
   ]
  },
  {
   "cell_type": "markdown",
   "metadata": {},
   "source": [
    "## Onderzoeksvraag 2\n",
    "\n",
    "Voor de tweede onderzoeksvraag zullen er groepen worden gemaakt op basis van de stoffen en de wijnmakerijen. Deze vraag is een clustering onderzoek, waardoor er bij voorbaad geen richtlijnen opgesteld kunnen worden voor een volledige beantwoording van de onderzoeksvraag. "
   ]
  },
  {
   "cell_type": "code",
   "execution_count": null,
   "metadata": {},
   "outputs": [],
   "source": [
    "from sklearn.cluster import KMeans\n",
    "whitewine_clustering = whitewine"
   ]
  },
  {
   "cell_type": "markdown",
   "metadata": {},
   "source": [
    "### Experimenten\n",
    "\n",
    "Allereerst zullen er een aantal experimenten volgen rondom het clusteren van de witte wijn dataset op basis van verschillende eigenschappen.\n",
    "Hierbij zullen er geen definitieve conclusies getrokken worden, maar ligt de nadruk op het vinden van interessante uitkomsten.\n",
    "Wel is er soms extra toelichting over wat er te zien is in de verschillende plots."
   ]
  },
  {
   "cell_type": "code",
   "execution_count": null,
   "metadata": {},
   "outputs": [],
   "source": [
    "means = KMeans(n_clusters=3, random_state=0)\n",
    "means.fit(whitewine_clustering[[\"alcohol\", \"sulphates\"]])\n",
    "means.cluster_centers_"
   ]
  },
  {
   "cell_type": "code",
   "execution_count": null,
   "metadata": {},
   "outputs": [],
   "source": [
    "plt.scatter(whitewine_clustering[\"alcohol\"], whitewine_clustering[\"sulphates\"], c=means.labels_)"
   ]
  },
  {
   "cell_type": "markdown",
   "metadata": {},
   "source": [
    "In dit cluster van drie groepen zijn er duidelijk 3 groepen gemaakt op basis van het alcohol percentage."
   ]
  },
  {
   "cell_type": "code",
   "execution_count": null,
   "metadata": {},
   "outputs": [],
   "source": [
    "means = KMeans(n_clusters=6, random_state=0)\n",
    "means.fit(whitewine_clustering[[\"alcohol\", \"sulphates\"]])\n",
    "plt.scatter(whitewine_clustering[\"alcohol\"], whitewine_clustering[\"sulphates\"], c=means.labels_)"
   ]
  },
  {
   "cell_type": "markdown",
   "metadata": {},
   "source": [
    "Wederom lijken de groepen enkel gebaseerd te zijn op het alcohol percentage."
   ]
  },
  {
   "cell_type": "code",
   "execution_count": null,
   "metadata": {},
   "outputs": [],
   "source": [
    "means = KMeans(n_clusters=4, random_state=0)\n",
    "means.fit(whitewine_clustering[[\"alcohol\", \"quality\"]])\n",
    "plt.scatter(whitewine_clustering[\"alcohol\"], whitewine_clustering[\"quality\"], c=means.labels_)"
   ]
  },
  {
   "cell_type": "code",
   "execution_count": null,
   "metadata": {},
   "outputs": [],
   "source": [
    "means = KMeans(n_clusters=4, random_state=0)\n",
    "means.fit(whitewine_clustering[[\"pH\", \"alcohol\"]])\n",
    "plt.scatter(whitewine_clustering[\"pH\"], whitewine_clustering[\"alcohol\"], c=means.labels_)"
   ]
  },
  {
   "cell_type": "code",
   "execution_count": null,
   "metadata": {},
   "outputs": [],
   "source": [
    "means = KMeans(n_clusters=4, random_state=0)\n",
    "means.fit(whitewine_clustering[[\"alcohol\", \"residual sugar\"]])\n",
    "plt.scatter(whitewine_clustering[\"alcohol\"], whitewine_clustering[\"residual sugar\"], c=means.labels_)"
   ]
  },
  {
   "cell_type": "code",
   "execution_count": null,
   "metadata": {},
   "outputs": [],
   "source": [
    "means = KMeans(n_clusters=4, random_state=0)\n",
    "means.fit(whitewine_clustering[[\"pH\", \"residual sugar\"]])\n",
    "plt.scatter(whitewine_clustering[\"pH\"], whitewine_clustering[\"residual sugar\"], c=means.labels_)"
   ]
  },
  {
   "cell_type": "code",
   "execution_count": null,
   "metadata": {},
   "outputs": [],
   "source": [
    "whitewine_clustering.groupby(means.labels_).describe()"
   ]
  },
  {
   "cell_type": "markdown",
   "metadata": {},
   "source": [
    "Uit latere tests is gebleken dat er uitschieters in de data zitten, deze worden hieronder weggehaald uit de dataset:"
   ]
  },
  {
   "cell_type": "code",
   "execution_count": null,
   "metadata": {},
   "outputs": [],
   "source": [
    "redwine_clustering = redwine[[\"points\", \"fixed acidity\", \"volatile acidity\", \"residual sugar\", \"chlorides\", \"free sulfur dioxide\", \"total sulfur dioxide\", \"pH\", \"sulphates\", \"alcohol\"]]\n",
    "\n",
    "whitewine_clustering = whitewine_clustering[whitewine_clustering[\"total sulfur dioxide\"] < 200]\n",
    "redwine_clustering = redwine_clustering[redwine_clustering[\"total sulfur dioxide\"] < 250]"
   ]
  },
  {
   "cell_type": "markdown",
   "metadata": {},
   "source": [
    "### Clustering\n",
    "\n",
    "Hieronder zal het belangrijkste gedeelte van de clustering plaatsvinden, waarbij er gezocht zal worden naar een aantal groepen tussen de 3 en 5.\n",
    "Voor elk van deze clustering uitkomsten zal worden onderzocht of er logische groepen ontstaan en of deze te herleiden zijn naar bepaalde eigenschappen. Dit zal zowel voor de rode als de witte wijn data set uitgevoerd worden."
   ]
  },
  {
   "cell_type": "code",
   "execution_count": null,
   "metadata": {},
   "outputs": [],
   "source": [
    "three_group_white_cluster = KMeans(n_clusters=3, random_state=0)\n",
    "three_group_white_cluster.fit(whitewine_clustering)\n",
    "whitewine_clustering.groupby(three_group_white_cluster.labels_).mean()"
   ]
  },
  {
   "cell_type": "markdown",
   "metadata": {},
   "source": [
    "Hierbij valt op dat er voornamelijk verschillen tussen de groepen zitten voor de residual sugar, free sulfur dioxide, total sulfur dioxide en alchohol."
   ]
  },
  {
   "cell_type": "code",
   "execution_count": null,
   "metadata": {},
   "outputs": [],
   "source": [
    "four_group_white_cluster = KMeans(n_clusters=4, random_state=0)\n",
    "four_group_white_cluster.fit(whitewine_clustering)\n",
    "whitewine_clustering.groupby(four_group_white_cluster.labels_).mean()"
   ]
  },
  {
   "cell_type": "markdown",
   "metadata": {},
   "source": [
    "Bij het clusteren in vier groepen valt op dat de grote verschillen wederom bij deze eigenschappen te vinden zijn."
   ]
  },
  {
   "cell_type": "code",
   "execution_count": null,
   "metadata": {},
   "outputs": [],
   "source": [
    "five_group_white_cluster = KMeans(n_clusters=5, random_state=0)\n",
    "five_group_white_cluster.fit(whitewine_clustering)\n",
    "whitewine_clustering.groupby(five_group_white_cluster.labels_).mean()"
   ]
  },
  {
   "cell_type": "markdown",
   "metadata": {},
   "source": [
    "Bij vijf groepen is dit niet anders. Dat de grootste verschillen zitten in deze velden, blijkt voor het 2e, 3e en 4e genoemde element zelfs hetzelfde te zijn voor de rode wijn:"
   ]
  },
  {
   "cell_type": "code",
   "execution_count": null,
   "metadata": {},
   "outputs": [],
   "source": [
    "three_group_red_cluster = KMeans(n_clusters=3, random_state=0)\n",
    "three_group_red_cluster.fit(redwine_clustering)\n",
    "redwine_clustering.groupby(three_group_red_cluster.labels_).mean()"
   ]
  },
  {
   "cell_type": "code",
   "execution_count": null,
   "metadata": {},
   "outputs": [],
   "source": [
    "four_group_red_cluster = KMeans(n_clusters=4, random_state=0)\n",
    "four_group_red_cluster.fit(redwine_clustering)\n",
    "redwine_clustering.groupby(four_group_red_cluster.labels_).mean()"
   ]
  },
  {
   "cell_type": "code",
   "execution_count": null,
   "metadata": {},
   "outputs": [],
   "source": [
    "five_group_red_cluster = KMeans(n_clusters=5, random_state=0)\n",
    "five_group_red_cluster.fit(redwine_clustering)\n",
    "redwine_clustering.groupby(five_group_red_cluster.labels_).mean()"
   ]
  },
  {
   "cell_type": "markdown",
   "metadata": {},
   "source": [
    "Hieruit blijkt dat KMeans voor deze wijn datasets voornamelijk het onderscheid maakt op basis van de sulfur dioxide, en daarnaast gedeeltelijk op basis van alcohol en residual sugar. Om te visualiseren hoe groot de verschillen tussen de groepen zijn, zullen hieronder verschillende diagrammen volgen."
   ]
  },
  {
   "cell_type": "code",
   "execution_count": null,
   "metadata": {},
   "outputs": [],
   "source": [
    "plt.scatter(whitewine_clustering[\"free sulfur dioxide\"], whitewine_clustering[\"total sulfur dioxide\"], c=three_group_white_cluster.labels_)"
   ]
  },
  {
   "cell_type": "code",
   "execution_count": null,
   "metadata": {},
   "outputs": [],
   "source": [
    "plt.scatter(redwine_clustering[\"free sulfur dioxide\"], redwine_clustering[\"total sulfur dioxide\"], c=three_group_red_cluster.labels_)"
   ]
  },
  {
   "cell_type": "markdown",
   "metadata": {},
   "source": [
    "Het is hierbij leuk om te vermelden dat er redelijk vergelijkbare figuren en groepen voortkomen uit beide datasets. Hieronder zijn beide plots weergegeven met dezelfde assen:"
   ]
  },
  {
   "cell_type": "code",
   "execution_count": null,
   "metadata": {},
   "outputs": [],
   "source": [
    "plt.ylim(0, 200)\n",
    "plt.xlim(0, 100)\n",
    "plt.scatter(whitewine_clustering[\"free sulfur dioxide\"], whitewine_clustering[\"total sulfur dioxide\"], c=three_group_white_cluster.labels_)"
   ]
  },
  {
   "cell_type": "code",
   "execution_count": null,
   "metadata": {},
   "outputs": [],
   "source": [
    "plt.ylim(0, 200)\n",
    "plt.xlim(0, 100)\n",
    "plt.scatter(redwine_clustering[\"free sulfur dioxide\"], redwine_clustering[\"total sulfur dioxide\"], c=three_group_red_cluster.labels_)"
   ]
  },
  {
   "cell_type": "markdown",
   "metadata": {},
   "source": [
    "Door deze grafieken met elkaar te vergelijken, is duidelijk te concluderen dat rode wijn over het algemeen veel minder sulfur dioxide bevat. Dit blijkt ook uit de gemiddelde waardes voor beide tabellen:"
   ]
  },
  {
   "cell_type": "code",
   "execution_count": null,
   "metadata": {},
   "outputs": [],
   "source": [
    "redwine_clustering.mean()"
   ]
  },
  {
   "cell_type": "code",
   "execution_count": null,
   "metadata": {},
   "outputs": [],
   "source": [
    "whitewine_clustering.mean()"
   ]
  },
  {
   "cell_type": "code",
   "execution_count": null,
   "metadata": {},
   "outputs": [],
   "source": [
    "plt.scatter(whitewine_clustering[\"free sulfur dioxide\"], whitewine_clustering[\"total sulfur dioxide\"], c=five_group_white_cluster.labels_)"
   ]
  },
  {
   "cell_type": "code",
   "execution_count": null,
   "metadata": {},
   "outputs": [],
   "source": [
    "plt.scatter(redwine_clustering[\"free sulfur dioxide\"], redwine_clustering[\"total sulfur dioxide\"], c=five_group_red_cluster.labels_)"
   ]
  },
  {
   "cell_type": "markdown",
   "metadata": {},
   "source": [
    "Ook met 5 groepen valt duidelijk te zien dat de verdeling voornamelijk gebaseerd is op de totale hoeveelheid sulfur dioxide. Dit roept meteen de vraag op waarom er dan een zichtbaar verschil zat tussen de alcohol percentages. Om deze vraag te beantwoorden zal er gekeken worden naar de verhouding en relatie tussen sulfur dioxide en alcohol."
   ]
  },
  {
   "cell_type": "markdown",
   "metadata": {},
   "source": [
    "### Alcohol vs. sulfur dioxide"
   ]
  },
  {
   "cell_type": "markdown",
   "metadata": {},
   "source": [
    "In dit laatste onderdeel van de tweede deelvraag zal er onderzoek gedaan worden naar de relatie van deze stoffen, omdat dit de stoffen waarom die de meeste invloed hadden op de groepsverdeling."
   ]
  },
  {
   "cell_type": "code",
   "execution_count": null,
   "metadata": {},
   "outputs": [],
   "source": [
    "plt.hist(redwine_clustering[three_group_red_cluster.labels_ == 0][\"alcohol\"])"
   ]
  },
  {
   "cell_type": "code",
   "execution_count": null,
   "metadata": {},
   "outputs": [],
   "source": [
    "plt.hist(redwine_clustering[three_group_red_cluster.labels_ == 1][\"alcohol\"])"
   ]
  },
  {
   "cell_type": "code",
   "execution_count": null,
   "metadata": {},
   "outputs": [],
   "source": [
    "plt.hist(redwine_clustering[three_group_red_cluster.labels_ == 2][\"alcohol\"])"
   ]
  },
  {
   "cell_type": "markdown",
   "metadata": {},
   "source": [
    "In de bovenstaande grafieken is duidelijk te zien dat er in de groep 0 een veel groter aandeel van sterkere rode wijnen is. Ditzelfde is ook te zien bij de witte wijnen, waar groep 0 aanzienlijk minder sterkere wijnen bevat:"
   ]
  },
  {
   "cell_type": "code",
   "execution_count": null,
   "metadata": {},
   "outputs": [],
   "source": [
    "plt.hist(whitewine_clustering[three_group_white_cluster.labels_ == 0][\"alcohol\"])"
   ]
  },
  {
   "cell_type": "code",
   "execution_count": null,
   "metadata": {},
   "outputs": [],
   "source": [
    "plt.hist(whitewine_clustering[three_group_white_cluster.labels_ == 1][\"alcohol\"])"
   ]
  },
  {
   "cell_type": "code",
   "execution_count": null,
   "metadata": {},
   "outputs": [],
   "source": [
    "plt.hist(whitewine_clustering[three_group_white_cluster.labels_ == 2][\"alcohol\"])"
   ]
  },
  {
   "cell_type": "code",
   "execution_count": null,
   "metadata": {},
   "outputs": [],
   "source": [
    "whitewine_clustering.groupby(three_group_white_cluster.labels_)[\"alcohol\"].mean()"
   ]
  },
  {
   "cell_type": "code",
   "execution_count": null,
   "metadata": {},
   "outputs": [],
   "source": [
    "plt.scatter(whitewine_clustering[\"total sulfur dioxide\"], whitewine_clustering[\"alcohol\"], c=five_group_white_cluster.labels_)"
   ]
  },
  {
   "cell_type": "code",
   "execution_count": null,
   "metadata": {},
   "outputs": [],
   "source": [
    "plt.scatter(redwine_clustering[\"total sulfur dioxide\"], redwine_clustering[\"alcohol\"], c=five_group_red_cluster.labels_)"
   ]
  },
  {
   "cell_type": "markdown",
   "metadata": {},
   "source": [
    "De bovenstaande plots zijn interessant, want hierin is niet alleen nogmaals te zien dat witte wijn veel meer sulfur dioxide bevat, maar ook dat sterke rode wijnen vaak weinig sulfur dioxide bevatten, terwijl dit bij witte wijnen heel anders werkt."
   ]
  },
  {
   "cell_type": "code",
   "execution_count": null,
   "metadata": {},
   "outputs": [],
   "source": [
    "sns.jointplot(whitewine_clustering[\"total sulfur dioxide\"], whitewine_clustering[\"alcohol\"], kind=\"reg\")"
   ]
  },
  {
   "cell_type": "code",
   "execution_count": null,
   "metadata": {
    "scrolled": false
   },
   "outputs": [],
   "source": [
    "sns.jointplot(redwine_clustering[\"total sulfur dioxide\"], redwine_clustering[\"alcohol\"], kind=\"reg\")"
   ]
  },
  {
   "cell_type": "markdown",
   "metadata": {},
   "source": [
    "Voor de meeste wijnen is wel te zeggen dat een hoge hoeveelheid alcohol matig correleert met een lage hoeveelheid sulfur dioxide.\n",
    "Dit is niet het geval voor de hoeveelheid free sulfur dioxide, zoals hieronder te zien is:"
   ]
  },
  {
   "cell_type": "code",
   "execution_count": null,
   "metadata": {},
   "outputs": [],
   "source": [
    "plt.scatter(whitewine_clustering[\"free sulfur dioxide\"], whitewine_clustering[\"alcohol\"], c=five_group_white_cluster.labels_)"
   ]
  },
  {
   "cell_type": "code",
   "execution_count": null,
   "metadata": {},
   "outputs": [],
   "source": [
    "plt.scatter(redwine_clustering[\"free sulfur dioxide\"], redwine_clustering[\"alcohol\"], c=five_group_red_cluster.labels_)"
   ]
  },
  {
   "cell_type": "markdown",
   "metadata": {},
   "source": [
    "Daarnaast valt het op de de groepen veel minder goed te onderscheiden zijn in deze plots, omdat de groepen dus voornamelijk gebaseerd zijn op de totale hoeveelheid sulfur dioxide.\n",
    "Ook is er matige correlatie tussen een hoge hoeveelheid alcohol en een lage hoeveelheid totaal sulfur dioxide.\n",
    "\n",
    "### Koppeling met wijnmakerijen\n",
    "\n",
    "Als laatste onderdeel van deze onderzoeksvraag zal de terugkoppeling van de clusters naar de wijnmakerijen uitgevoerd worden.\n",
    "Het is voor te stellen dat de clusters ook gedeeltelijk overeen komen met de wijnmakerijen, maar het kan ook zijn dat hier geen relatie in te ontdekken is. De wijnmakerij is alleen bekend bij de rode wijn dataset."
   ]
  },
  {
   "cell_type": "code",
   "execution_count": null,
   "metadata": {
    "scrolled": false
   },
   "outputs": [],
   "source": [
    "redwine_original_with_no_outliers = redwine[redwine[\"total sulfur dioxide\"] < 250]\n",
    "groups = redwine_original_with_no_outliers.groupby(five_group_red_cluster.labels_)[\"winery\"]\n",
    "groups.describe()"
   ]
  },
  {
   "cell_type": "code",
   "execution_count": null,
   "metadata": {},
   "outputs": [],
   "source": [
    "for group in range(0, 5):\n",
    "    print(f\"CLUSTER {group}\")\n",
    "    print(groups.value_counts()[group].head())"
   ]
  },
  {
   "cell_type": "markdown",
   "metadata": {},
   "source": [
    "### Conclusie\n",
    "\n",
    "Als conclusie op het clusteren van de wijnen op basis van de stoffen en andere chemische eigenschappen zou er gezegd kunnen worden dat rode wijnen vaak minder sulfur dioxide bevatten.\n",
    "Daarnaast is er een matige correlatie tussen enkele stoffen te ontdekken, waarop het kmeans algoritme de groepen indeeld.\n",
    "\n",
    "Vervolgens is er nog onderzoek gedaan naar de relatie van de clusters met de wijnmakerijen. Hier zijn een aantal verbanden in te vinden, voornamelijk de verhouding van wijnen per cluster van \"Wines & Winemakers\" t.o.v. \"DFJ Vinhos\" is interessant.\n",
    "\n",
    "Hiermee is onderzoeksvraag 2 beantwoord."
   ]
  }
 ],
 "metadata": {
  "kernelspec": {
   "display_name": "Python 3",
   "language": "python",
   "name": "python3"
  },
  "language_info": {
   "codemirror_mode": {
    "name": "ipython",
    "version": 3
   },
   "file_extension": ".py",
   "mimetype": "text/x-python",
   "name": "python",
   "nbconvert_exporter": "python",
   "pygments_lexer": "ipython3",
   "version": "3.7.2"
  }
 },
 "nbformat": 4,
 "nbformat_minor": 2
}
