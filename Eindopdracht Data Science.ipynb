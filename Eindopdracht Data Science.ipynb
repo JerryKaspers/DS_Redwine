{
 "cells": [
  {
   "cell_type": "markdown",
   "metadata": {},
   "source": [
    "# Rode wijn in Portugal\n",
    "\n",
    "Voor de Data Science casusopdracht heeft onze groep de rode wijn data set als onderzoekopdracht. In het eerste gedeelte van dit document zal er een een verkenning van de data plaatsvinden, waardoor er gerichte en interessante onderzoeksvragen opgesteld kunnen worden.\n",
    "\n",
    "## Verkenning\n",
    "\n",
    "Als eerste stap van de verkenning zal er onderzoek gedaan worden naar de huidige velden en de mogelijke verbeteringen aan de data set."
   ]
  },
  {
   "cell_type": "code",
   "execution_count": null,
   "metadata": {
    "scrolled": true
   },
   "outputs": [],
   "source": [
    "import numpy as np\n",
    "import pandas as pd\n",
    "import matplotlib.pyplot as plt\n",
    "import seaborn as sns\n",
    "#voor vraag 3\n",
    "from sklearn.model_selection import train_test_split\n",
    "from sklearn.neighbors import KNeighborsClassifier\n",
    "from sklearn.naive_bayes import GaussianNB\n",
    "from sklearn.metrics import accuracy_score\n",
    "from sklearn.metrics import confusion_matrix\n",
    "#voor vraag 4\n",
    "import holoviews as hv\n",
    "from holoviews import dim, opts\n",
    "from scipy import stats\n",
    "\n",
    "hv.extension('bokeh')"
   ]
  },
  {
   "cell_type": "code",
   "execution_count": null,
   "metadata": {
    "scrolled": false
   },
   "outputs": [],
   "source": [
    "redwine = pd.read_csv('redwine.csv', sep=';')\n",
    "redwine.head()"
   ]
  },
  {
   "cell_type": "code",
   "execution_count": null,
   "metadata": {
    "scrolled": true
   },
   "outputs": [],
   "source": [
    "redwine.set_index('id', inplace=True)"
   ]
  },
  {
   "cell_type": "code",
   "execution_count": null,
   "metadata": {
    "scrolled": true
   },
   "outputs": [],
   "source": [
    "# Eerst eens bekijken hoeveel records we op dit moment hebben\n",
    "len(redwine)"
   ]
  },
  {
   "cell_type": "code",
   "execution_count": null,
   "metadata": {
    "scrolled": false
   },
   "outputs": [],
   "source": [
    "# Bekijken hoeveel records het scheelt met ontbrekende waardes\n",
    "len(redwine.dropna())"
   ]
  },
  {
   "cell_type": "markdown",
   "metadata": {},
   "source": [
    "Hier zit best een fors verschil tussen, waardoor er met meer detail naar de data gekeken moet worden.\n",
    "\n",
    "Daarnaast valt het ons op dat de country en variety velden allemaal gelijke data bevatten, waardoor deze irrelevant zijn."
   ]
  },
  {
   "cell_type": "code",
   "execution_count": null,
   "metadata": {
    "scrolled": false
   },
   "outputs": [],
   "source": [
    "redwine.drop(['country', 'variety'], axis=1, inplace=True)\n",
    "redwine.head()"
   ]
  },
  {
   "cell_type": "markdown",
   "metadata": {},
   "source": [
    "Hieronder tellen we het aantal rijen met missende data per kolom."
   ]
  },
  {
   "cell_type": "code",
   "execution_count": null,
   "metadata": {
    "scrolled": true
   },
   "outputs": [],
   "source": [
    "redwine.isna().sum()"
   ]
  },
  {
   "cell_type": "markdown",
   "metadata": {},
   "source": [
    "Het valt op dat alle missende data voorkomt bij designation en price, echter zijn er ook een aantal kolommen die niet het goede type zijn. Deze zullen zeer waarschijnlijk dus ook data bevatten die niet als float gecast kan worden."
   ]
  },
  {
   "cell_type": "code",
   "execution_count": null,
   "metadata": {},
   "outputs": [],
   "source": [
    "redwine.dtypes"
   ]
  },
  {
   "cell_type": "code",
   "execution_count": null,
   "metadata": {
    "scrolled": false
   },
   "outputs": [],
   "source": [
    "redwine[np.isnan(pd.to_numeric(redwine[\"density\"], errors=\"coerce\"))]"
   ]
  },
  {
   "cell_type": "markdown",
   "metadata": {},
   "source": [
    "Hieruit blijkt dat er maar 1 rij is waar de density niet klopt, omdat het er maar 1 is, zullen we deze verwijderen uit de dataset."
   ]
  },
  {
   "cell_type": "code",
   "execution_count": null,
   "metadata": {},
   "outputs": [],
   "source": [
    "redwine.drop(1475, inplace=True)\n",
    "redwine[\"density\"] = redwine[\"density\"].astype(\"float\")"
   ]
  },
  {
   "cell_type": "markdown",
   "metadata": {},
   "source": [
    "De andere velden met het type object bevatten meer invalide waardes:"
   ]
  },
  {
   "cell_type": "code",
   "execution_count": null,
   "metadata": {},
   "outputs": [],
   "source": [
    "print(len(redwine[np.isnan(pd.to_numeric(redwine[\"citric acid\"], errors=\"coerce\"))]))\n",
    "print(len(redwine[np.isnan(pd.to_numeric(redwine[\"alcohol\"], errors=\"coerce\"))]))"
   ]
  },
  {
   "cell_type": "markdown",
   "metadata": {},
   "source": [
    "Omdat het bij alcohol ook om maar een aantal waardes gaat, is er gekozen om ook voor de records met ongeldige alcohol waardes de records te verwijderen."
   ]
  },
  {
   "cell_type": "code",
   "execution_count": null,
   "metadata": {},
   "outputs": [],
   "source": [
    "redwine = redwine[~np.isnan(pd.to_numeric(redwine[\"alcohol\"], errors=\"coerce\"))]\n",
    "redwine[\"alcohol\"] = redwine[\"alcohol\"].astype(\"float\")"
   ]
  },
  {
   "cell_type": "markdown",
   "metadata": {},
   "source": [
    "### Tweede dataset\n",
    "\n",
    "Als tweede dataset is er een set gepakt welke ook de zelfde chemische samenstellingen bevat als de huidige set, alleen is deze gericht op witte wijnen. "
   ]
  },
  {
   "cell_type": "code",
   "execution_count": null,
   "metadata": {
    "scrolled": true
   },
   "outputs": [],
   "source": [
    "whitewine = pd.read_csv('winequality-white.csv', sep=';')\n",
    "whitewine.head()"
   ]
  },
  {
   "cell_type": "markdown",
   "metadata": {},
   "source": [
    "In tegenstelling tot bij de rode wijn, is er niet veel informatie over de regio en naamgeving van de wijn beschikbaar. Daarnaast is het een kwaliteitscijfer en niet een waardering van een reviewer, waardoor de cijfers niet direct te vergelijken zijn.\n",
    "\n",
    "Bij de witte wijn set worden alle kolommen wel correct ingelezen:"
   ]
  },
  {
   "cell_type": "code",
   "execution_count": null,
   "metadata": {},
   "outputs": [],
   "source": [
    "whitewine.dtypes"
   ]
  },
  {
   "cell_type": "markdown",
   "metadata": {},
   "source": [
    "\n",
    "#### Histogrammen\n",
    "\n",
    "Om meer inzicht te krijgen in de verdelingen van de stoffen, is voor elke stof een histogram opegsteld. Ook voor de pH, quality en alcohol waardes zijn grafieken gemaakt."
   ]
  },
  {
   "cell_type": "code",
   "execution_count": null,
   "metadata": {
    "scrolled": false
   },
   "outputs": [],
   "source": [
    "sns.set()\n",
    "for column in whitewine.columns.values:\n",
    "    plt.title(column)\n",
    "    if column in redwine:\n",
    "        if redwine[column].dtype != \"object\":\n",
    "            plt.hist(redwine[column], color=\"#ff335577\")\n",
    "    plt.hist(whitewine[column], color=\"#ffff3377\")\n",
    "    plt.show()"
   ]
  },
  {
   "cell_type": "markdown",
   "metadata": {},
   "source": [
    "Het valt hierbij op dat de quality en citric acid geen rode wijnen heeft, omdat de quality niet aanwezig is als veld in de dataset, en omdat citric acid van het type object is. In tegenstelling tot alcohol en density is hier nog geen oplossing voor, omdat er veel meer datapunten missen.\n",
    "\n",
    "Daarnaast is het interessant om te zien dat veel van deze grafieken geen goeie normaalverdeling vormen, wat doet vermoeden dat er een directe aanleiding is voor de verdeling van de stoffen. De grafiek van de pH waardes lijkt nog het meest normaal verdeeld.\n",
    "\n",
    "## Onderzoeksvragen\n",
    "\n",
    "Een eis voor het voltooien van deze casus is het opstellen (en beantwoorden) van onderzoeksvragen. Hierbij moet er rekening gehouden worden met de data die is aangeleverd en moet er een combinatie gemaakt worden met een externe set van data.\n",
    "\n",
    "In het vorige gedeelte is een externe set verkend, welke betrekking heeft op witte wijnen in plaats van rode.\n",
    "\n",
    "Met deze twee datasets en alle gegevens erin zijn we tot de volgende onderzoeksvragen gekomen:\n",
    "\n",
    "- Welke proefpersonen geven gemiddeld meer of minder punten voor een wijn en hoeveel is dit?\n",
    "- Zijn er groepen te onderscheiden in de wijn op basis van de stoffen en de wijnmakerijen?\n",
    "- In hoeverre is de score van een Portugese Red te voorspellen op basis van de chemische kenmerken?\n",
    "- Wat zijn de verschillen in verhoudingen van de chemische kenmerken bij rode t.o.v. witte wijnen?\n"
   ]
  },
  {
   "cell_type": "markdown",
   "metadata": {},
   "source": [
    "## Onderzoeksvraag 1\n",
    "\n",
    "Deze onderzoeksvraag luidt: \"Welke proefpersonen geven gemiddeld meer of minder punten voor een wijn en hoeveel is dit?\"\n",
    "\n",
    "Door deze vraag te beantwoorden kan er gekeken worden of alle wijnen even eerlijk beoordeeld worden. Mocht er dan een vergelijking gaan komen tussen de verschillende wijnen waarbij het aantal punten een rol speelt kan er rekening mee gehouden worden.\n",
    "\n",
    "Als eerste zullen we bekijken hoeveel reviewers er in totaal zijn en wat hun gemiddelde scores zijn:"
   ]
  },
  {
   "cell_type": "code",
   "execution_count": null,
   "metadata": {
    "scrolled": true
   },
   "outputs": [],
   "source": [
    "redwine['taster_name'].astype(str)\n",
    "redwine_grouped = redwine.groupby(['taster_name'])[['taster_name', 'points']]\n",
    "display(redwine_grouped.mean())"
   ]
  },
  {
   "cell_type": "markdown",
   "metadata": {},
   "source": [
    "Hierboven zijn de gemiddelden per reviewer te zien.\n",
    "Hierin valt op dat de gemiddelden allemaal binnen 5 punten van elkaar liggen.\n",
    "Een verschil van een gemiddelde van 5 op een totaal van zo te zien 100 punten is niet genoeg om te zeggen dat er één of meerdere personen daadwerkelijk een andere waardering geven ten opzichte van de rest. Hieruit is voor deze deelvraag dus nog niks af te leiden.\n",
    "\n",
    "Om er toch dieper op in te duiken zal er hieronder een histogram worden opgesteld voor elk proefpersoon. Hiermee kunnen we kijken of er ook echt uitschieters gegeven worden. Eventueel is er dan verder mee te onderzoeken of de lage(re) of hoge(re) scores zich allemaal bij bepaalde wijnen bevinden."
   ]
  },
  {
   "cell_type": "code",
   "execution_count": null,
   "metadata": {
    "scrolled": true
   },
   "outputs": [],
   "source": [
    "plt.hist(redwine['points'], label='Uitgedeelde scores')\n",
    "plt.legend()\n",
    "plt.show()"
   ]
  },
  {
   "cell_type": "markdown",
   "metadata": {},
   "source": [
    "Hierboven is te zien dat, zoals ook al af te leiden uit de gemiddelden hierboven, de meeste scores tussen de 85 en 90 zijn gegeven. \n",
    "Er ontstaat hier dan ook een mooie normaalverdeling in de uitgegedeelde punten."
   ]
  },
  {
   "cell_type": "code",
   "execution_count": null,
   "metadata": {},
   "outputs": [],
   "source": [
    "display(redwine_grouped.size())"
   ]
  },
  {
   "cell_type": "markdown",
   "metadata": {},
   "source": [
    "Hierboven is per reviewer te zien hoeveel punten er daadwerkelijk uitgedeeld zijn. Hieruit is dus af te leiden of en persoon ook genoeg scores heeft uigedeeld heeft om betrouwbaar een gemiddelde vanaf te leiden.\n",
    "\n",
    "Daarnaast is het interessant om te bekijken of de personen met een minder aantal uitgedeelde punten ook een hogere spreiding hebben in hun uitgedeelde punten."
   ]
  },
  {
   "cell_type": "code",
   "execution_count": null,
   "metadata": {},
   "outputs": [],
   "source": [
    "for taster_name, data in redwine_grouped:\n",
    "    if data['points'].count() < 20:\n",
    "        plt.hist(data['points'], label=taster_name)\n",
    "        plt.legend()\n",
    "        plt.show()"
   ]
  },
  {
   "cell_type": "markdown",
   "metadata": {},
   "source": [
    "Hierboven is in de histogrammen te zien dat de meeste spreiding plaats vind bij de volgende personen:\n",
    "- Carrie Dykes\n",
    "- Fiona Adams\n",
    "- Mike DeSimone\n",
    "\n",
    "Ook valt het op dat alledrie de personen 5 of minder reviews hebben gegeven.\n",
    "\n",
    "Wanneer we het dan verder gaan ontleden en dit afzetten ten opzichte van de wijnen die ze gewaardeerd hebben zien we het volgende voor 'Carrie Dykes' (beginnend bij de laagste score):"
   ]
  },
  {
   "cell_type": "code",
   "execution_count": null,
   "metadata": {},
   "outputs": [],
   "source": [
    "display(redwine[redwine['taster_name'] == 'Carrie Dykes'].sort_values(['points']))"
   ]
  },
  {
   "cell_type": "markdown",
   "metadata": {},
   "source": [
    "Nu is dus te zien dat de wijn genaamd 'Casal da Coelheira 2011 Red (Tejo)' de wijn is welke het minste gewaardeerd wordt door Carrie Dykes met 83 punten. Als er dan gekeken word naar alle scores gegeven aan deze wijn zien we de volgende data:"
   ]
  },
  {
   "cell_type": "code",
   "execution_count": null,
   "metadata": {},
   "outputs": [],
   "source": [
    "display(redwine[redwine['title'] == 'Casal da Coelheira 2011 Red (Tejo)'].sort_values(['points']))"
   ]
  },
  {
   "cell_type": "markdown",
   "metadata": {},
   "source": [
    "Deze wijn is geen goede peiler om te bekijken aangezien deze niet door een ander persoon gewaardeerd is. Om te voorkomen dat dit bij alles voorkomt word er bekeken of voor alle wijnen geld dat deze maar door een enkel persoon getest is."
   ]
  },
  {
   "cell_type": "code",
   "execution_count": null,
   "metadata": {
    "scrolled": false
   },
   "outputs": [],
   "source": [
    "(redwine['title'] == 'Parras Vinhos 2010 Montaria Red (Alentejano)').sum()"
   ]
  },
  {
   "cell_type": "markdown",
   "metadata": {},
   "source": [
    "Bij de eerstvolgende wijn beoordeeld door Carrie Dykes is al te zien dat er 2 personen deze wijn beoordeeld hebben. Met deze informatie is het dus al duidelijk dat er meerdere personen zijn die dezelfde wijn beoordelen."
   ]
  },
  {
   "cell_type": "markdown",
   "metadata": {},
   "source": [
    "Hieronder volgen de overige twee wijnen beoordeeld door Carrie:"
   ]
  },
  {
   "cell_type": "code",
   "execution_count": null,
   "metadata": {
    "scrolled": true
   },
   "outputs": [],
   "source": [
    "display(redwine[redwine['title'] == 'Parras Vinhos 2010 Montaria Red (Alentejano)'].sort_values(['points']))"
   ]
  },
  {
   "cell_type": "markdown",
   "metadata": {},
   "source": [
    "Hier is te zien dat Carrie Dykes exact dezelfde score heeft gegeven op dezelfde wijn als 'Roger Voss' welke dan weer meer als 600 reviews op zijn naam heeft staan. Hier word er dus uitgegaan van een betrouwbare score.\n",
    "\n",
    "Als volgende word de derde beoordeelde door Carrie Dykes behandeld."
   ]
  },
  {
   "cell_type": "code",
   "execution_count": null,
   "metadata": {},
   "outputs": [],
   "source": [
    "display(redwine[redwine['title'] == 'J, Portugal Ramos 2013 Ramos Reserva Red (Alentejano)'].sort_values(['points']))"
   ]
  },
  {
   "cell_type": "markdown",
   "metadata": {},
   "source": [
    "Hier is helaas duidelijk dat er maar 1 persoon is geweest welke een score heeft gegeven aan deze wijn.\n",
    "Voor nu is de conclusie dus dat de scores gegeven door deze persoon **onbetrouwbaar** zijn omdat op minder als de helft van de gegeven scores een referentie punt gevonden kan worden in andere reviewers.\n",
    "\n",
    "---\n",
    "\n",
    "Als volgende worden de wijnen van 'Fiona Adams' behandeld."
   ]
  },
  {
   "cell_type": "code",
   "execution_count": null,
   "metadata": {},
   "outputs": [],
   "source": [
    "display(redwine[redwine['taster_name'] == 'Fiona Adams'].sort_values(['points']))"
   ]
  },
  {
   "cell_type": "markdown",
   "metadata": {},
   "source": [
    "Ook voor Fiona Adams zijn er weer 3 wijnen welke onderzocht zullen worden. Wat ook te zien is, is dat Fiona Adams in vergelijking met Carrie Dykes dus wel hogere punten uitdeeld.\n",
    "\n",
    "Beginnende met de eerste wijn genaamd 'Quinta do Cavalinho':"
   ]
  },
  {
   "cell_type": "code",
   "execution_count": null,
   "metadata": {},
   "outputs": [],
   "source": [
    "display(redwine[redwine['title'] == 'Quinta do Cavalinho 2013 Vale das Donas Red (Tejo)'].sort_values(['points']))"
   ]
  },
  {
   "cell_type": "markdown",
   "metadata": {},
   "source": [
    "Helaas is ook hier weer Fiona Adams de enige persoon die een score heeft gegeven aan de wijn.\n",
    "\n",
    "Door naar de volgende:"
   ]
  },
  {
   "cell_type": "code",
   "execution_count": null,
   "metadata": {},
   "outputs": [],
   "source": [
    "display(redwine[redwine['title'] == 'Quinta do Casal Branco 2009 Quartilho Red (Ribatejo)'].sort_values(['points']))"
   ]
  },
  {
   "cell_type": "markdown",
   "metadata": {},
   "source": [
    "Ook hier is het helaas weer alleen Fiona Adams die als enigste een score heeft uitgegeven.\n",
    "\n",
    "De derde wijn als volgt:"
   ]
  },
  {
   "cell_type": "code",
   "execution_count": null,
   "metadata": {},
   "outputs": [],
   "source": [
    "display(redwine[redwine['title'] == 'Barão de Vilar 2014 Cais da Ribeira Reserva Red (Douro)'].sort_values(['points']))"
   ]
  },
  {
   "cell_type": "markdown",
   "metadata": {},
   "source": [
    "Bij de derde zien we dan wel dat Fiona Adams hetzelfde aantal punten heeft gegeven als 'Michael Schachner'.\n",
    "Helaas komt het totaal er net als bij Carrie Dykes eropneer dat er **niet** voldoende data is om deze persoon als **betrouwbaar** aan te kunnen merken.\n",
    "\n",
    "---\n",
    "\n",
    "Dan als laatste word 'Mike DeSimone' behandeld:"
   ]
  },
  {
   "cell_type": "code",
   "execution_count": null,
   "metadata": {},
   "outputs": [],
   "source": [
    "display(redwine[redwine['taster_name'] == 'Mike DeSimone'].sort_values(['points']))"
   ]
  },
  {
   "cell_type": "markdown",
   "metadata": {},
   "source": [
    "Deze persoon heeft in totaal 5 wijnen beoordeeld.\n",
    "\n",
    "beginnende met de wijn 'Sogevinus 2006 Curva Tinto Red (Douro)':"
   ]
  },
  {
   "cell_type": "code",
   "execution_count": null,
   "metadata": {},
   "outputs": [],
   "source": [
    "display(redwine[redwine['title'] == 'Sogevinus 2006 Curva Tinto Red (Douro)'].sort_values(['points']))"
   ]
  },
  {
   "cell_type": "markdown",
   "metadata": {},
   "source": [
    "Ondanks dat deze prima beoordeeld is op een schaal van 0 tot 100 is dit weer door 1 persoon gebeurd.\n",
    "\n",
    "De volgende te onderzoeken is 'Companhia das Quintas 2011 Pancas Red (Lisboa)':"
   ]
  },
  {
   "cell_type": "code",
   "execution_count": null,
   "metadata": {},
   "outputs": [],
   "source": [
    "display(redwine[redwine['title'] == 'Companhia das Quintas 2011 Pancas Red (Lisboa)'].sort_values(['points']))"
   ]
  },
  {
   "cell_type": "markdown",
   "metadata": {},
   "source": [
    "Deze is wel door een andere beoordeeld. Dit is dezelfde 'Roger Voss' welke eerder ook al voorkwam bij 'Carrie Dykes' hierdoor kunnen we dus zeggen dat deze betrouwbaar is."
   ]
  },
  {
   "cell_type": "code",
   "execution_count": null,
   "metadata": {},
   "outputs": [],
   "source": [
    "display(redwine[redwine['title'] == 'Quinta de la Rosa 2011 Red (Douro)'].sort_values(['points']))"
   ]
  },
  {
   "cell_type": "markdown",
   "metadata": {},
   "source": [
    "Deze wijn is weer door Mike DeSimone alleen beoordeeld."
   ]
  },
  {
   "cell_type": "code",
   "execution_count": null,
   "metadata": {},
   "outputs": [],
   "source": [
    "display(redwine[redwine['title'] == 'Real Companhia Velha 2013 Evel Reserva Red (Douro)'].sort_values(['points']))"
   ]
  },
  {
   "cell_type": "markdown",
   "metadata": {},
   "source": [
    "Hierbij hetzelfde als de vorige, alleen door Mike DeSimone beoordeeld."
   ]
  },
  {
   "cell_type": "code",
   "execution_count": null,
   "metadata": {},
   "outputs": [],
   "source": [
    "display(redwine[redwine['title'] == 'Casa da Passarella 2012 Abanico Reserva Red (Dão)'].sort_values(['points']))"
   ]
  },
  {
   "cell_type": "markdown",
   "metadata": {},
   "source": [
    "Hier hetzelfde.\n",
    "Bij de persoon 'Mike DeSimone' is de conclusie dus ook **onbetrouwbaar** op basis van het te weinig kunnen peilen van de beoordelingen.\n",
    "\n",
    "### Conlusie onderzoeksvraag 1\n",
    "Als conclusie kunnen we dus zeggen dat de personen welke een minder \"normale\" normaalverdeling hadden in hun scores, door het te weinig geven van beoordelingen om deze goed te kunnen peilen, ook te onbetrouwbaar zijn om een duidelijk antwoord op te geven.\n",
    "\n",
    "Wel is het zo dat de scores die vergeleken konden worden, gelijkwaardig zijn aan de scores gegeven door de meer ervaren personen.\n",
    "Als conclusie valt hier dus uit op te maken, uitgaande dat de andere wijnen gelijkwaardig beoordeeld zouden worden, dat er geen personen zijn die een erg afwijkende score geven of een score welke eventueel bijgesteld zou kunnen worden."
   ]
  },
  {
   "cell_type": "markdown",
   "metadata": {},
   "source": [
    "## Onderzoeksvraag 2\n",
    "\n",
    "Voor de tweede onderzoeksvraag zullen er groepen worden gemaakt op basis van de stoffen en de wijnmakerijen. Deze vraag is een clustering onderzoek, waardoor er bij voorbaad geen richtlijnen opgesteld kunnen worden voor een volledige beantwoording van de onderzoeksvraag. "
   ]
  },
  {
   "cell_type": "code",
   "execution_count": null,
   "metadata": {},
   "outputs": [],
   "source": [
    "from sklearn.cluster import KMeans\n",
    "whitewine_clustering = whitewine"
   ]
  },
  {
   "cell_type": "markdown",
   "metadata": {},
   "source": [
    "### Experimenten\n",
    "\n",
    "Allereerst zullen er een aantal experimenten volgen rondom het clusteren van de witte wijn dataset op basis van verschillende eigenschappen.\n",
    "Hierbij zullen er geen definitieve conclusies getrokken worden, maar ligt de nadruk op het vinden van interessante uitkomsten.\n",
    "Wel is er soms extra toelichting over wat er te zien is in de verschillende plots.\n",
    "De uitwerkingen in de clustering paragraaf zijn voorzien van correcte labels en een titel, de diagrammen hieronder dus niet."
   ]
  },
  {
   "cell_type": "code",
   "execution_count": null,
   "metadata": {},
   "outputs": [],
   "source": [
    "means = KMeans(n_clusters=3, random_state=0)\n",
    "means.fit(whitewine_clustering[[\"alcohol\", \"sulphates\"]])\n",
    "means.cluster_centers_"
   ]
  },
  {
   "cell_type": "code",
   "execution_count": null,
   "metadata": {},
   "outputs": [],
   "source": [
    "plt.scatter(whitewine_clustering[\"alcohol\"], whitewine_clustering[\"sulphates\"], c=means.labels_)"
   ]
  },
  {
   "cell_type": "markdown",
   "metadata": {},
   "source": [
    "In dit cluster van drie groepen zijn er duidelijk 3 groepen gemaakt op basis van het alcohol percentage."
   ]
  },
  {
   "cell_type": "code",
   "execution_count": null,
   "metadata": {},
   "outputs": [],
   "source": [
    "means = KMeans(n_clusters=6, random_state=0)\n",
    "means.fit(whitewine_clustering[[\"alcohol\", \"sulphates\"]])\n",
    "plt.scatter(whitewine_clustering[\"alcohol\"], whitewine_clustering[\"sulphates\"], c=means.labels_)"
   ]
  },
  {
   "cell_type": "markdown",
   "metadata": {},
   "source": [
    "Wederom lijken de groepen enkel gebaseerd te zijn op het alcohol percentage."
   ]
  },
  {
   "cell_type": "code",
   "execution_count": null,
   "metadata": {},
   "outputs": [],
   "source": [
    "means = KMeans(n_clusters=4, random_state=0)\n",
    "means.fit(whitewine_clustering[[\"alcohol\", \"quality\"]])\n",
    "plt.scatter(whitewine_clustering[\"alcohol\"], whitewine_clustering[\"quality\"], c=means.labels_)"
   ]
  },
  {
   "cell_type": "code",
   "execution_count": null,
   "metadata": {},
   "outputs": [],
   "source": [
    "means = KMeans(n_clusters=4, random_state=0)\n",
    "means.fit(whitewine_clustering[[\"pH\", \"alcohol\"]])\n",
    "plt.scatter(whitewine_clustering[\"pH\"], whitewine_clustering[\"alcohol\"], c=means.labels_)"
   ]
  },
  {
   "cell_type": "code",
   "execution_count": null,
   "metadata": {},
   "outputs": [],
   "source": [
    "means = KMeans(n_clusters=4, random_state=0)\n",
    "means.fit(whitewine_clustering[[\"alcohol\", \"residual sugar\"]])\n",
    "plt.scatter(whitewine_clustering[\"alcohol\"], whitewine_clustering[\"residual sugar\"], c=means.labels_)"
   ]
  },
  {
   "cell_type": "code",
   "execution_count": null,
   "metadata": {},
   "outputs": [],
   "source": [
    "means = KMeans(n_clusters=4, random_state=0)\n",
    "means.fit(whitewine_clustering[[\"pH\", \"residual sugar\"]])\n",
    "plt.scatter(whitewine_clustering[\"pH\"], whitewine_clustering[\"residual sugar\"], c=means.labels_)"
   ]
  },
  {
   "cell_type": "code",
   "execution_count": null,
   "metadata": {},
   "outputs": [],
   "source": [
    "whitewine_clustering.groupby(means.labels_).describe()"
   ]
  },
  {
   "cell_type": "markdown",
   "metadata": {},
   "source": [
    "Uit latere tests is gebleken dat er uitschieters in de data zitten, deze worden hieronder weggehaald uit de dataset:"
   ]
  },
  {
   "cell_type": "code",
   "execution_count": null,
   "metadata": {},
   "outputs": [],
   "source": [
    "redwine_clustering = redwine[[\"points\", \"fixed acidity\", \"volatile acidity\", \"residual sugar\", \"chlorides\", \"free sulfur dioxide\", \"total sulfur dioxide\", \"pH\", \"sulphates\", \"alcohol\"]]\n",
    "\n",
    "whitewine_clustering = whitewine_clustering[whitewine_clustering[\"total sulfur dioxide\"] < 200]\n",
    "redwine_clustering = redwine_clustering[redwine_clustering[\"total sulfur dioxide\"] < 250]"
   ]
  },
  {
   "cell_type": "markdown",
   "metadata": {},
   "source": [
    "### Clustering\n",
    "\n",
    "Hieronder zal het belangrijkste gedeelte van de clustering plaatsvinden, waarbij er gezocht zal worden naar een aantal groepen tussen de 3 en 5.\n",
    "Voor elk van deze clustering uitkomsten zal worden onderzocht of er logische groepen ontstaan en of deze te herleiden zijn naar bepaalde eigenschappen. Dit zal zowel voor de rode als de witte wijn data set uitgevoerd worden."
   ]
  },
  {
   "cell_type": "code",
   "execution_count": null,
   "metadata": {},
   "outputs": [],
   "source": [
    "three_group_white_cluster = KMeans(n_clusters=3, random_state=0)\n",
    "three_group_white_cluster.fit(whitewine_clustering)\n",
    "whitewine_clustering.groupby(three_group_white_cluster.labels_).mean()"
   ]
  },
  {
   "cell_type": "markdown",
   "metadata": {},
   "source": [
    "Hierbij valt op dat er voornamelijk verschillen tussen de groepen zitten voor de residual sugar, free sulfur dioxide, total sulfur dioxide en alchohol."
   ]
  },
  {
   "cell_type": "code",
   "execution_count": null,
   "metadata": {},
   "outputs": [],
   "source": [
    "four_group_white_cluster = KMeans(n_clusters=4, random_state=0)\n",
    "four_group_white_cluster.fit(whitewine_clustering)\n",
    "whitewine_clustering.groupby(four_group_white_cluster.labels_).mean()"
   ]
  },
  {
   "cell_type": "markdown",
   "metadata": {},
   "source": [
    "Bij het clusteren in vier groepen valt op dat de grote verschillen wederom bij deze eigenschappen te vinden zijn."
   ]
  },
  {
   "cell_type": "code",
   "execution_count": null,
   "metadata": {},
   "outputs": [],
   "source": [
    "five_group_white_cluster = KMeans(n_clusters=5, random_state=0)\n",
    "five_group_white_cluster.fit(whitewine_clustering)\n",
    "whitewine_clustering.groupby(five_group_white_cluster.labels_).mean()"
   ]
  },
  {
   "cell_type": "markdown",
   "metadata": {},
   "source": [
    "Bij vijf groepen is dit niet anders. Dat de grootste verschillen zitten in deze velden, blijkt voor het 2e, 3e en 4e genoemde element zelfs hetzelfde te zijn voor de rode wijn:"
   ]
  },
  {
   "cell_type": "code",
   "execution_count": null,
   "metadata": {},
   "outputs": [],
   "source": [
    "three_group_red_cluster = KMeans(n_clusters=3, random_state=0)\n",
    "three_group_red_cluster.fit(redwine_clustering)\n",
    "redwine_clustering.groupby(three_group_red_cluster.labels_).mean()"
   ]
  },
  {
   "cell_type": "code",
   "execution_count": null,
   "metadata": {},
   "outputs": [],
   "source": [
    "four_group_red_cluster = KMeans(n_clusters=4, random_state=0)\n",
    "four_group_red_cluster.fit(redwine_clustering)\n",
    "redwine_clustering.groupby(four_group_red_cluster.labels_).mean()"
   ]
  },
  {
   "cell_type": "code",
   "execution_count": null,
   "metadata": {},
   "outputs": [],
   "source": [
    "five_group_red_cluster = KMeans(n_clusters=5, random_state=0)\n",
    "five_group_red_cluster.fit(redwine_clustering)\n",
    "redwine_clustering.groupby(five_group_red_cluster.labels_).mean()"
   ]
  },
  {
   "cell_type": "markdown",
   "metadata": {},
   "source": [
    "Hieruit blijkt dat KMeans voor deze wijn datasets voornamelijk het onderscheid maakt op basis van de sulfur dioxide, en daarnaast gedeeltelijk op basis van alcohol en residual sugar. Om te visualiseren hoe groot de verschillen tussen de groepen zijn, zullen hieronder verschillende diagrammen volgen."
   ]
  },
  {
   "cell_type": "code",
   "execution_count": null,
   "metadata": {},
   "outputs": [],
   "source": [
    "plt.title(\"3 groups white wine clustering\")\n",
    "plt.xlabel(\"free sulfur dioxide\")\n",
    "plt.ylabel(\"total sulfur dioxide\")\n",
    "plt.scatter(whitewine_clustering[\"free sulfur dioxide\"], whitewine_clustering[\"total sulfur dioxide\"], c=three_group_white_cluster.labels_)"
   ]
  },
  {
   "cell_type": "code",
   "execution_count": null,
   "metadata": {},
   "outputs": [],
   "source": [
    "plt.title(\"3 groups red wine clustering\")\n",
    "plt.xlabel(\"free sulfur dioxide\")\n",
    "plt.ylabel(\"total sulfur dioxide\")\n",
    "plt.scatter(redwine_clustering[\"free sulfur dioxide\"], redwine_clustering[\"total sulfur dioxide\"], c=three_group_red_cluster.labels_)"
   ]
  },
  {
   "cell_type": "markdown",
   "metadata": {},
   "source": [
    "Het is hierbij leuk om te vermelden dat er redelijk vergelijkbare figuren en groepen voortkomen uit beide datasets. Hieronder zijn beide plots weergegeven met dezelfde assen:"
   ]
  },
  {
   "cell_type": "code",
   "execution_count": null,
   "metadata": {},
   "outputs": [],
   "source": [
    "plt.title(\"3 groups white wine clustering with the same axes\")\n",
    "plt.ylim(0, 200)\n",
    "plt.xlim(0, 100)\n",
    "plt.xlabel(\"free sulfur dioxide\")\n",
    "plt.ylabel(\"total sulfur dioxide\")\n",
    "plt.scatter(whitewine_clustering[\"free sulfur dioxide\"], whitewine_clustering[\"total sulfur dioxide\"], c=three_group_white_cluster.labels_)"
   ]
  },
  {
   "cell_type": "code",
   "execution_count": null,
   "metadata": {},
   "outputs": [],
   "source": [
    "plt.title(\"3 groups red wine clustering with the same axes\")\n",
    "plt.ylim(0, 200)\n",
    "plt.xlim(0, 100)\n",
    "plt.xlabel(\"free sulfur dioxide\")\n",
    "plt.ylabel(\"total sulfur dioxide\")\n",
    "plt.scatter(redwine_clustering[\"free sulfur dioxide\"], redwine_clustering[\"total sulfur dioxide\"], c=three_group_red_cluster.labels_)"
   ]
  },
  {
   "cell_type": "markdown",
   "metadata": {},
   "source": [
    "Door deze grafieken met elkaar te vergelijken, is duidelijk te concluderen dat rode wijn over het algemeen veel minder sulfur dioxide bevat. Dit blijkt ook uit de gemiddelde waardes voor beide tabellen:"
   ]
  },
  {
   "cell_type": "code",
   "execution_count": null,
   "metadata": {},
   "outputs": [],
   "source": [
    "redwine_clustering.mean()"
   ]
  },
  {
   "cell_type": "code",
   "execution_count": null,
   "metadata": {},
   "outputs": [],
   "source": [
    "whitewine_clustering.mean()"
   ]
  },
  {
   "cell_type": "code",
   "execution_count": null,
   "metadata": {},
   "outputs": [],
   "source": [
    "plt.title(\"5 groups white wine clustering\")\n",
    "plt.xlabel(\"free sulfur dioxide\")\n",
    "plt.ylabel(\"total sulfur dioxide\")\n",
    "plt.scatter(whitewine_clustering[\"free sulfur dioxide\"], whitewine_clustering[\"total sulfur dioxide\"], c=five_group_white_cluster.labels_)"
   ]
  },
  {
   "cell_type": "code",
   "execution_count": null,
   "metadata": {},
   "outputs": [],
   "source": [
    "plt.title(\"5 groups red wine clustering\")\n",
    "plt.xlabel(\"free sulfur dioxide\")\n",
    "plt.ylabel(\"total sulfur dioxide\")\n",
    "plt.scatter(redwine_clustering[\"free sulfur dioxide\"], redwine_clustering[\"total sulfur dioxide\"], c=five_group_red_cluster.labels_)"
   ]
  },
  {
   "cell_type": "markdown",
   "metadata": {},
   "source": [
    "Ook met 5 groepen valt duidelijk te zien dat de verdeling voornamelijk gebaseerd is op de totale hoeveelheid sulfur dioxide. Dit roept meteen de vraag op waarom er dan een zichtbaar verschil zat tussen de alcohol percentages. Om deze vraag te beantwoorden zal er gekeken worden naar de verhouding en relatie tussen sulfur dioxide en alcohol."
   ]
  },
  {
   "cell_type": "markdown",
   "metadata": {},
   "source": [
    "### Alcohol vs. sulfur dioxide"
   ]
  },
  {
   "cell_type": "markdown",
   "metadata": {},
   "source": [
    "In dit laatste onderdeel van de tweede deelvraag zal er onderzoek gedaan worden naar de relatie van deze stoffen, omdat dit de stoffen waarom die de meeste invloed hadden op de groepsverdeling."
   ]
  },
  {
   "cell_type": "code",
   "execution_count": null,
   "metadata": {},
   "outputs": [],
   "source": [
    "plt.title(\"group 0 red wine alcohol histogram\")\n",
    "plt.xlabel(\"alcohol\")\n",
    "plt.ylabel(\"amount\")\n",
    "plt.hist(redwine_clustering[three_group_red_cluster.labels_ == 0][\"alcohol\"])"
   ]
  },
  {
   "cell_type": "code",
   "execution_count": null,
   "metadata": {},
   "outputs": [],
   "source": [
    "plt.title(\"group 1 red wine alcohol histogram\")\n",
    "plt.xlabel(\"alcohol\")\n",
    "plt.ylabel(\"amount\")\n",
    "plt.hist(redwine_clustering[three_group_red_cluster.labels_ == 1][\"alcohol\"])"
   ]
  },
  {
   "cell_type": "code",
   "execution_count": null,
   "metadata": {},
   "outputs": [],
   "source": [
    "plt.title(\"group 2 red wine alcohol histogram\")\n",
    "plt.xlabel(\"alcohol\")\n",
    "plt.ylabel(\"amount\")\n",
    "plt.hist(redwine_clustering[three_group_red_cluster.labels_ == 2][\"alcohol\"])"
   ]
  },
  {
   "cell_type": "markdown",
   "metadata": {},
   "source": [
    "In de bovenstaande grafieken is duidelijk te zien dat er in de groep 0 een veel groter aandeel van sterkere rode wijnen is. Ditzelfde is ook te zien bij de witte wijnen, waar groep 0 aanzienlijk minder sterkere wijnen bevat:"
   ]
  },
  {
   "cell_type": "code",
   "execution_count": null,
   "metadata": {},
   "outputs": [],
   "source": [
    "plt.title(\"group 0 white wine alcohol histogram\")\n",
    "plt.xlabel(\"alcohol\")\n",
    "plt.ylabel(\"amount\")\n",
    "plt.hist(whitewine_clustering[three_group_white_cluster.labels_ == 0][\"alcohol\"])"
   ]
  },
  {
   "cell_type": "code",
   "execution_count": null,
   "metadata": {},
   "outputs": [],
   "source": [
    "plt.title(\"group 1 white wine alcohol histogram\")\n",
    "plt.xlabel(\"alcohol\")\n",
    "plt.ylabel(\"amount\")\n",
    "plt.hist(whitewine_clustering[three_group_white_cluster.labels_ == 1][\"alcohol\"])"
   ]
  },
  {
   "cell_type": "code",
   "execution_count": null,
   "metadata": {},
   "outputs": [],
   "source": [
    "plt.title(\"group 2 white wine alcohol histogram\")\n",
    "plt.xlabel(\"alcohol\")\n",
    "plt.ylabel(\"amount\")\n",
    "plt.hist(whitewine_clustering[three_group_white_cluster.labels_ == 2][\"alcohol\"])"
   ]
  },
  {
   "cell_type": "code",
   "execution_count": null,
   "metadata": {},
   "outputs": [],
   "source": [
    "whitewine_clustering.groupby(three_group_white_cluster.labels_)[\"alcohol\"].mean()"
   ]
  },
  {
   "cell_type": "code",
   "execution_count": null,
   "metadata": {},
   "outputs": [],
   "source": [
    "plt.title(\"white wine clustering\")\n",
    "plt.xlabel(\"total sulfur dioxide\")\n",
    "plt.ylabel(\"alcohol\")\n",
    "plt.scatter(whitewine_clustering[\"total sulfur dioxide\"], whitewine_clustering[\"alcohol\"], c=five_group_white_cluster.labels_)"
   ]
  },
  {
   "cell_type": "code",
   "execution_count": null,
   "metadata": {},
   "outputs": [],
   "source": [
    "plt.title(\"red wine clustering\")\n",
    "plt.xlabel(\"total sulfur dioxide\")\n",
    "plt.ylabel(\"alcohol\")\n",
    "plt.scatter(redwine_clustering[\"total sulfur dioxide\"], redwine_clustering[\"alcohol\"], c=five_group_red_cluster.labels_)"
   ]
  },
  {
   "cell_type": "markdown",
   "metadata": {},
   "source": [
    "De bovenstaande plots zijn interessant, want hierin is niet alleen nogmaals te zien dat witte wijn veel meer sulfur dioxide bevat, maar ook dat sterke rode wijnen vaak weinig sulfur dioxide bevatten, terwijl dit bij witte wijnen heel anders werkt."
   ]
  },
  {
   "cell_type": "code",
   "execution_count": null,
   "metadata": {},
   "outputs": [],
   "source": [
    "sns.jointplot(whitewine_clustering[\"total sulfur dioxide\"], whitewine_clustering[\"alcohol\"], kind=\"reg\")"
   ]
  },
  {
   "cell_type": "code",
   "execution_count": null,
   "metadata": {
    "scrolled": false
   },
   "outputs": [],
   "source": [
    "sns.jointplot(redwine_clustering[\"total sulfur dioxide\"], redwine_clustering[\"alcohol\"], kind=\"reg\")"
   ]
  },
  {
   "cell_type": "markdown",
   "metadata": {},
   "source": [
    "Voor de meeste wijnen is wel te zeggen dat een hoge hoeveelheid alcohol in verband staat met een lage hoeveelheid sulfur dioxide.\n",
    "Dit is niet het geval voor de hoeveelheid free sulfur dioxide, zoals hieronder te zien is:"
   ]
  },
  {
   "cell_type": "code",
   "execution_count": null,
   "metadata": {},
   "outputs": [],
   "source": [
    "plt.title(\"white wine clustering\")\n",
    "plt.xlabel(\"free sulfur dioxide\")\n",
    "plt.ylabel(\"alcohol\")\n",
    "plt.scatter(whitewine_clustering[\"free sulfur dioxide\"], whitewine_clustering[\"alcohol\"], c=five_group_white_cluster.labels_)"
   ]
  },
  {
   "cell_type": "code",
   "execution_count": null,
   "metadata": {},
   "outputs": [],
   "source": [
    "plt.title(\"red wine clustering\")\n",
    "plt.xlabel(\"free sulfur dioxide\")\n",
    "plt.ylabel(\"alcohol\")\n",
    "plt.scatter(redwine_clustering[\"free sulfur dioxide\"], redwine_clustering[\"alcohol\"], c=five_group_red_cluster.labels_)"
   ]
  },
  {
   "cell_type": "markdown",
   "metadata": {},
   "source": [
    "Daarnaast valt het op de de groepen veel minder goed te onderscheiden zijn in deze plots, omdat de groepen dus voornamelijk gebaseerd zijn op de totale hoeveelheid sulfur dioxide.\n",
    "Ook is er een verband tussen een hoge hoeveelheid alcohol en een lage hoeveelheid totaal sulfur dioxide.\n",
    "\n",
    "### Koppeling met wijnmakerijen\n",
    "\n",
    "In dit onderdeel van de onderzoeksvraag zal de terugkoppeling van de clusters naar de wijnmakerijen uitgevoerd worden.\n",
    "Het is voor te stellen dat de clusters ook gedeeltelijk overeen komen met de wijnmakerijen, maar het kan ook zijn dat hier geen relatie in te ontdekken is. De wijnmakerij is alleen bekend bij de rode wijn dataset."
   ]
  },
  {
   "cell_type": "code",
   "execution_count": null,
   "metadata": {
    "scrolled": false
   },
   "outputs": [],
   "source": [
    "redwine_original_with_no_outliers = redwine[redwine[\"total sulfur dioxide\"] < 250]\n",
    "groups = redwine_original_with_no_outliers.groupby(five_group_red_cluster.labels_)[\"winery\"]\n",
    "groups.describe()"
   ]
  },
  {
   "cell_type": "code",
   "execution_count": null,
   "metadata": {},
   "outputs": [],
   "source": [
    "for group in range(0, 5):\n",
    "    print(f\"CLUSTER {group}\")\n",
    "    print(groups.value_counts()[group].head())"
   ]
  },
  {
   "cell_type": "markdown",
   "metadata": {},
   "source": [
    "Hier zijn de wijnmakerijen matig te relateren aan de groepen, waarbij het opvalt dat \"Wines & Winemakers\" en \"DFJ Vinhos\" vaak verschuiven, ondanks dat zij veel wijnen in elke categorie hebben.\n",
    "\n",
    "### Correlatie overzichten\n",
    "\n",
    "In deze laatste paragraaf zijn nog correlatie overzichten te zien voor de stoffen."
   ]
  },
  {
   "cell_type": "code",
   "execution_count": null,
   "metadata": {},
   "outputs": [],
   "source": [
    "redwine_original_with_no_outliers.corr()"
   ]
  },
  {
   "cell_type": "code",
   "execution_count": null,
   "metadata": {},
   "outputs": [],
   "source": [
    "whitewine_clustering.corr()"
   ]
  },
  {
   "cell_type": "markdown",
   "metadata": {},
   "source": [
    "Hier valt te zien dat voor de rode wijnen de prijs en alcohol matig correleren met waardering van de wijn (points). Ook valt te concluderen dat er wel een verband is tussen total sulfur dioxide en alcohol, maar dat het niet om correlatie gaat (-0.264086).\n",
    "\n",
    "### Conclusie\n",
    "\n",
    "Als conclusie op het clusteren van de wijnen op basis van de stoffen en andere chemische eigenschappen zou er gezegd kunnen worden dat rode wijnen vaak minder sulfur dioxide bevatten.\n",
    "Daarnaast is er een verband tussen enkele stoffen te ontdekken, waarop het kmeans algoritme de groepen indeeld.\n",
    "\n",
    "Vervolgens is er nog onderzoek gedaan naar de relatie van de clusters met de wijnmakerijen. Hier zijn een aantal verbanden in te vinden, voornamelijk de verhouding van wijnen per cluster van \"Wines & Winemakers\" t.o.v. \"DFJ Vinhos\" is interessant.\n",
    "\n",
    "Als laatste blijkt dat er correlatie tussen de prijs en alcohol met de waardering is.\n",
    "\n",
    "Hiermee is onderzoeksvraag 2 beantwoord."
   ]
  },
  {
   "cell_type": "markdown",
   "metadata": {},
   "source": [
    "## Onderzoeksvraag 3\n",
    "\n",
    "Deze onderzoeksvraag luidt \"In hoeverre is de score van een Portugese Red te voorspellen op basis van de chemische kenmerken?\"\n",
    "\n",
    "Hierbij gaan we gebruik maken van supervised machine learning.\n",
    "We hebben de dataframes nodig van alle chemische kenmerken met de prijs.\n"
   ]
  },
  {
   "cell_type": "code",
   "execution_count": null,
   "metadata": {
    "scrolled": true
   },
   "outputs": [],
   "source": [
    "redwine_priceprediction = redwine[['price','fixed acidity','volatile acidity','residual sugar','chlorides','free sulfur dioxide','total sulfur dioxide','density','pH','sulphates','alcohol']]\n",
    "redwine_priceprediction"
   ]
  },
  {
   "cell_type": "markdown",
   "metadata": {},
   "source": [
    "het valt gelijk op dat we aardig wat price waardes missen en zonder die kunnen we niks leren van onze dataset. dus zullen we voor deze vraag de records verwijderen waar een nulwaarde in voorkomt."
   ]
  },
  {
   "cell_type": "code",
   "execution_count": null,
   "metadata": {
    "scrolled": true
   },
   "outputs": [],
   "source": [
    "print('voor het verwijderen van de nulwaardes zijn er : ' + str(len(redwine_priceprediction)) + ' records.')\n",
    "redwine_priceprediction = redwine_priceprediction.dropna()\n",
    "print('na het verwijderen van de nulwaardes zijn er : ' + str(len(redwine_priceprediction)) + ' records.')\n",
    "redwine_priceprediction"
   ]
  },
  {
   "cell_type": "markdown",
   "metadata": {},
   "source": [
    "nu gaan we kijken of we groepen kunnen maken op basis van de prijs hiervoor gaan we kijken wat voor prijzen er aanwezig zijn in onze dataset."
   ]
  },
  {
   "cell_type": "code",
   "execution_count": null,
   "metadata": {},
   "outputs": [],
   "source": [
    "redwine_priceprediction['price'].describe(include=\"all\")"
   ]
  },
  {
   "cell_type": "code",
   "execution_count": null,
   "metadata": {},
   "outputs": [],
   "source": [
    "plt.figure()\n",
    "plt.title(\"prijs overzicht\")\n",
    "plt.xlabel(\"price\")\n",
    "plt.ylabel(\"amount\")\n",
    "plt.hist(redwine_priceprediction[\"price\"])\n",
    "ax = plt.gca()\n",
    "ax.set_xlim(0, 150)"
   ]
  },
  {
   "cell_type": "markdown",
   "metadata": {},
   "source": [
    "Het meeste zit dus tussen de 0 en 50 euro in, we kunnen de describe van hierboven gebruiken om groepen in te delen,<br />\n",
    "groep 1 : 0-12 <br />\n",
    "groep 2 : 12-17 <br />\n",
    "groep 3 : 17-28 <br />\n",
    "groep 4 : 28-40 <br />\n",
    "groep 5 : 40+"
   ]
  },
  {
   "cell_type": "code",
   "execution_count": null,
   "metadata": {},
   "outputs": [],
   "source": [
    "redwine_priceprediction.insert(1, 'prijsgroep', 'default value')\n",
    "\n",
    "for i in redwine_priceprediction.index:\n",
    "    if redwine_priceprediction.at[i, 'price'] < 12:\n",
    "        redwine_priceprediction.at[i, 'prijsgroep'] = 1\n",
    "    elif redwine_priceprediction.at[i, 'price'] < 17:\n",
    "        redwine_priceprediction.at[i, 'prijsgroep'] = 2\n",
    "    elif redwine_priceprediction.at[i, 'price'] < 28:\n",
    "        redwine_priceprediction.at[i, 'prijsgroep'] = 3\n",
    "    elif redwine_priceprediction.at[i, 'price'] < 40:\n",
    "        redwine_priceprediction.at[i, 'prijsgroep'] = 4\n",
    "    else:\n",
    "        redwine_priceprediction.at[i, 'prijsgroep'] = 5\n",
    "\n",
    "\n",
    "redwine_priceprediction.head()\n"
   ]
  },
  {
   "cell_type": "code",
   "execution_count": null,
   "metadata": {
    "scrolled": true
   },
   "outputs": [],
   "source": [
    "# maak een dictionary van prijsgroep naar prijsrange\n",
    "lookup_redwine_priceprediction = {1: '0-12', 2: '12-17', 3: '17-28', 4: '28-40', 5: '40+'}\n",
    "lookup_redwine_priceprediction\n"
   ]
  },
  {
   "cell_type": "markdown",
   "metadata": {},
   "source": [
    "Nu hebben we onze dataset zo ingericht dat we er mee kunnen testen. Hiervoor gebruiken we K Nearest Neighbors.\n",
    "\n",
    "### Voorspellen op alle chemische kenmerken.\n",
    "\n",
    "We zullen nu gaan kijken als je alle chemische kenmerken pakt of K nearest Neighbors goed kan voorspellen hoe duur de wijn is."
   ]
  },
  {
   "cell_type": "code",
   "execution_count": null,
   "metadata": {},
   "outputs": [],
   "source": [
    "# maak de feature tabel (X) en de target tabel (Y)\n",
    "X=redwine_priceprediction[['fixed acidity','volatile acidity','residual sugar','chlorides','free sulfur dioxide','total sulfur dioxide','density','pH','sulphates','alcohol']]\n",
    "y=np.asarray(redwine_priceprediction['prijsgroep'], dtype=\"|S6\")\n",
    "\n",
    "# splits in train en test set\n",
    "X_train, X_test, y_train, y_test = train_test_split(X,y, random_state = 0)\n",
    "# we gebruiken hier een random_state om te zorgen dat de waardes hetzelfde zijn elke keer en daar over kan worden uitgelegt.\n",
    "print('Aantal trainwaarden {0:d}'.format(len(X_train)))\n",
    "print('Aantal testwaarden {0:d}'.format(len(y_test)))"
   ]
  },
  {
   "cell_type": "code",
   "execution_count": null,
   "metadata": {},
   "outputs": [],
   "source": [
    "# maak classifier object\n",
    "knn = KNeighborsClassifier(n_neighbors = 9)\n",
    "# train de classifier\n",
    "knn.fit(X_train,y_train)\n",
    "# laat de classifier de testset berekenen\n",
    "y_knn = knn.predict(X_test)\n",
    "# controleer de nauwkeurigheid met de test data\n",
    "knn.score(X_test,y_test)"
   ]
  },
  {
   "cell_type": "markdown",
   "metadata": {},
   "source": [
    "Een score van 0.30 is niet al te best. iets minder dan 30% wordt goed voorspelt als je alle chemische kenmerken meeneemt,\n",
    "dit is wel beter dan gewoon gokken aangezien er 5 groepen zijn is de gokkans 20%."
   ]
  },
  {
   "cell_type": "code",
   "execution_count": null,
   "metadata": {},
   "outputs": [],
   "source": [
    "cm = confusion_matrix(y_test, y_knn)\n",
    "print(cm)"
   ]
  },
  {
   "cell_type": "markdown",
   "metadata": {},
   "source": [
    "Dit zijn de voorspellingen, je zou het liefst een diagonale lijn willen zien van linksboven naar rechtonder dan is de score 1. Het is zeker niet het geval, wat opvalt is dat de vierde prijsgroep (28-40) heel weinig wordt voorspelt."
   ]
  },
  {
   "cell_type": "code",
   "execution_count": null,
   "metadata": {},
   "outputs": [],
   "source": [
    "k = 9\n",
    "while (k <= len(X_train)/2):\n",
    "    knn = KNeighborsClassifier(n_neighbors = k)\n",
    "    knn.fit(X_train, y_train)\n",
    "    y_knn = knn.predict(X_test)\n",
    "    print(\"Score met k={}: {:.2f}\".format(k, knn.score(X_test, y_test)))\n",
    "    k += 50\n",
    "\n",
    "knn = KNeighborsClassifier(n_neighbors = 9)\n",
    "knn.fit(X_train, y_train)\n",
    "y_knn = knn.predict(X_test)"
   ]
  },
  {
   "cell_type": "markdown",
   "metadata": {},
   "source": [
    "Het aanpassen van de hoeveelheid neighbors maak niet veel uit voor de score van deze voorspelling."
   ]
  },
  {
   "cell_type": "code",
   "execution_count": null,
   "metadata": {},
   "outputs": [],
   "source": [
    "gnb = GaussianNB()\n",
    "gnb.fit(X_train, y_train)\n",
    "y_gnb = gnb.predict(X_test)\n",
    "print(\"Score met Gaussian NB is {:.2f} (was {:.2f} met KNN)\".format(gnb.score(X_test, y_test), knn.score(X_test, y_test)))"
   ]
  },
  {
   "cell_type": "markdown",
   "metadata": {},
   "source": [
    "De score wordt nog slechter met Gaussian NB\n",
    "\n",
    "Overal dit is een zeer slechte score voor het voorspellen van de prijs dus zou ik niet voorspellen op basis van alle chemische kenmerken\n",
    "\n",
    "### Voorspellen op 5 hoogst gecorreleerde chemische kenmerken\n",
    "\n",
    "We gaan nu dezelfde data gebruiken maar op minder chemische kenmerken voorspellen om te kijken dat sommige chemische kenmerken meer invloed hebben als andere op de prijs. We zullen eerst naar de correlaties kijken\n"
   ]
  },
  {
   "cell_type": "code",
   "execution_count": null,
   "metadata": {},
   "outputs": [],
   "source": [
    "redwine_priceprediction.corr()"
   ]
  },
  {
   "cell_type": "code",
   "execution_count": null,
   "metadata": {},
   "outputs": [],
   "source": [
    "# maak de feature tabel (X) en de target tabel (Y)\n",
    "X=redwine_priceprediction[['volatile acidity','total sulfur dioxide','density','sulphates','alcohol']]\n",
    "y=np.asarray(redwine_priceprediction['prijsgroep'], dtype=\"|S6\")\n",
    "\n",
    "# splits in train en test set\n",
    "X_train, X_test, y_train, y_test = train_test_split(X,y, random_state = 0)\n",
    "# we gebruiken hier een random_state om te zorgen dat de waardes hetzelfde zijn elke keer en daar over kan worden uitgelegt.\n",
    "print('Aantal trainwaarden {0:d}'.format(len(X_train)))\n",
    "print('Aantal testwaarden {0:d}'.format(len(y_test)))"
   ]
  },
  {
   "cell_type": "code",
   "execution_count": null,
   "metadata": {},
   "outputs": [],
   "source": [
    "knn = KNeighborsClassifier(n_neighbors = 9)\n",
    "knn.fit(X_train, y_train)\n",
    "y_knn = knn.predict(X_test)\n",
    "\n",
    "cm = confusion_matrix(y_test, y_knn)\n",
    "cm"
   ]
  },
  {
   "cell_type": "markdown",
   "metadata": {},
   "source": [
    "Het valt weer op dat de vierde prijsgroep bijna geen voorspellingen krijgt."
   ]
  },
  {
   "cell_type": "code",
   "execution_count": null,
   "metadata": {
    "scrolled": false
   },
   "outputs": [],
   "source": [
    "k = 9\n",
    "while (k <= len(X_train)/2):\n",
    "    knn = KNeighborsClassifier(n_neighbors = k)\n",
    "    knn.fit(X_train, y_train)\n",
    "    y_knn = knn.predict(X_test)\n",
    "    print(\"Score met k={}: {:.2f}\".format(k, knn.score(X_test, y_test)))\n",
    "    k += 50"
   ]
  },
  {
   "cell_type": "markdown",
   "metadata": {},
   "source": [
    "Hier is de voorspelling score 32% iets hoger dan de bij het nemen van alle chemische kenmerken maar hoge prijzen worden nooit voorspelt. Waarschijnlijk zitten er minder wijnen in de hoge prijsgroepen en is de score daardoor hoger."
   ]
  },
  {
   "cell_type": "code",
   "execution_count": null,
   "metadata": {},
   "outputs": [],
   "source": [
    "gnb = GaussianNB()\n",
    "gnb.fit(X_train, y_train)\n",
    "y_gnb = gnb.predict(X_test)\n",
    "print(\"Score met Gaussian NB is {:.2f} (was {:.2f} met KNN)\".format(gnb.score(X_test, y_test), knn.score(X_test, y_test)))"
   ]
  },
  {
   "cell_type": "markdown",
   "metadata": {},
   "source": [
    "Het valt op dat de score ongeveer gelijk is met de voorspelling van alle chemische kenmerken. Maar als je alleen deze 5 stoffen neemt voorspelt die nooit een hoge prijs.\n",
    "\n",
    "### Voorspellen met 2 chemische kenmerken\n",
    "\n",
    "Als we alleen twee chemische stoffen die de hoogste correlatie met prijs nemen kan het zijn dat de voorspellingskans omhoog gaat. Dit zijn alchohol en volatile acidity."
   ]
  },
  {
   "cell_type": "code",
   "execution_count": null,
   "metadata": {},
   "outputs": [],
   "source": [
    "# maak de feature tabel (X) en de target tabel (Y)\n",
    "X=redwine_priceprediction[['volatile acidity','alcohol']]\n",
    "y=np.asarray(redwine_priceprediction['prijsgroep'], dtype=\"|S6\")\n",
    "\n",
    "# splits in train en test set\n",
    "X_train, X_test, y_train, y_test = train_test_split(X,y, random_state = 0)\n",
    "# we gebruiken hier een random_state om te zorgen dat de waardes hetzelfde zijn elke keer en daar over kan worden uitgelegt.\n",
    "print('Aantal trainwaarden {0:d}'.format(len(X_train)))\n",
    "print('Aantal testwaarden {0:d}'.format(len(y_test)))"
   ]
  },
  {
   "cell_type": "code",
   "execution_count": null,
   "metadata": {},
   "outputs": [],
   "source": [
    "knn = KNeighborsClassifier(n_neighbors = 9)\n",
    "knn.fit(X_train, y_train)\n",
    "y_knn = knn.predict(X_test)\n",
    "\n",
    "cm = confusion_matrix(y_test, y_knn)\n",
    "cm"
   ]
  },
  {
   "cell_type": "markdown",
   "metadata": {},
   "source": [
    "Dit is bijna hetzelfde als bij 5 stoffen"
   ]
  },
  {
   "cell_type": "code",
   "execution_count": null,
   "metadata": {},
   "outputs": [],
   "source": [
    "k = 1\n",
    "while (k <= len(X_train)/2):\n",
    "    knn = KNeighborsClassifier(n_neighbors = k)\n",
    "    knn.fit(X_train, y_train)\n",
    "    y_knn = knn.predict(X_test)\n",
    "    print(\"Score met k={}: {:.2f}\".format(k, knn.score(X_test, y_test)))\n",
    "    k += 50"
   ]
  },
  {
   "cell_type": "code",
   "execution_count": null,
   "metadata": {},
   "outputs": [],
   "source": [
    "gnb = GaussianNB()\n",
    "gnb.fit(X_train, y_train)\n",
    "y_gnb = gnb.predict(X_test)\n",
    "print(\"Score met Gaussian NB is {:.2f} (was {:.2f} met KNN)\".format(gnb.score(X_test, y_test), knn.score(X_test, y_test)))"
   ]
  },
  {
   "cell_type": "markdown",
   "metadata": {},
   "source": [
    "### Voorspellen op basis van alleen alcohol\n",
    "\n",
    "De laatste groep waar we naar kijken is alleen alcohol."
   ]
  },
  {
   "cell_type": "code",
   "execution_count": null,
   "metadata": {},
   "outputs": [],
   "source": [
    "# maak de feature tabel (X) en de target tabel (Y)\n",
    "X=redwine_priceprediction[['alcohol']]\n",
    "y=np.asarray(redwine_priceprediction['prijsgroep'], dtype=\"|S6\")\n",
    "\n",
    "# splits in train en test set\n",
    "X_train, X_test, y_train, y_test = train_test_split(X,y, random_state = 0)\n",
    "# we gebruiken hier een random_state om te zorgen dat de waardes hetzelfde zijn elke keer en daar over kan worden uitgelegt.\n",
    "print('Aantal trainwaarden {0:d}'.format(len(X_train)))\n",
    "print('Aantal testwaarden {0:d}'.format(len(y_test)))"
   ]
  },
  {
   "cell_type": "code",
   "execution_count": null,
   "metadata": {},
   "outputs": [],
   "source": [
    "knn = KNeighborsClassifier(n_neighbors = 9)\n",
    "knn.fit(X_train, y_train)\n",
    "y_knn = knn.predict(X_test)\n",
    "\n",
    "cm = confusion_matrix(y_test, y_knn)\n",
    "cm"
   ]
  },
  {
   "cell_type": "markdown",
   "metadata": {},
   "source": [
    "Overal ongeveer hetzelfde, het is dus te concluderen dat alcohol de grootste invloed heeft op de prijs. "
   ]
  },
  {
   "cell_type": "code",
   "execution_count": null,
   "metadata": {},
   "outputs": [],
   "source": [
    "k = 1\n",
    "while (k <= len(X_train)/2):\n",
    "    knn = KNeighborsClassifier(n_neighbors = k)\n",
    "    knn.fit(X_train, y_train)\n",
    "    y_knn = knn.predict(X_test)\n",
    "    print(\"Score met k={}: {:.2f}\".format(k, knn.score(X_test, y_test)))\n",
    "    k += 50"
   ]
  },
  {
   "cell_type": "code",
   "execution_count": null,
   "metadata": {},
   "outputs": [],
   "source": [
    "gnb = GaussianNB()\n",
    "gnb.fit(X_train, y_train)\n",
    "y_gnb = gnb.predict(X_test)\n",
    "print(\"Score met Gaussian NB is {:.2f} (was {:.2f} met KNN)\".format(gnb.score(X_test, y_test), knn.score(X_test, y_test)))"
   ]
  },
  {
   "cell_type": "markdown",
   "metadata": {},
   "source": [
    "Dit geeft een soortgelijke score als bij de 2 chemische kenmerken.\n",
    "\n",
    "### Conclusie\n",
    "\n",
    "Bij het voorspellen van de prijs krijg je het beste resultaat door naar alcohol gehalte te kijken, hierbij helpen de andere chemische stoffen heel weinig tot niet.\n",
    "\n",
    "Je kan dus de prijs niet goed voorspellen aan de hand van de chemische kenmerken. Zelfs een ruwe schatting in een groepering van 5 prijsgroepen is de voorspelling maar 30% correct."
   ]
  },
  {
   "cell_type": "markdown",
   "metadata": {},
   "source": [
    "## Onderzoeksvraag 4\n",
    "\n",
    "De laatste onderzoekvraag is \"Wat zijn de verschillen in verhoudingen van de chemische kenmerken bij rode t.o.v. witte wijnen?\"\n",
    "\n",
    "We gaan beginnen met het kijken naar het gemiddelde van elke stof per wijnsoort."
   ]
  },
  {
   "cell_type": "markdown",
   "metadata": {},
   "source": [
    "### Gemiddelde"
   ]
  },
  {
   "cell_type": "code",
   "execution_count": null,
   "metadata": {},
   "outputs": [],
   "source": [
    "redwine_stoffen = redwine[['fixed acidity','volatile acidity','residual sugar','chlorides','free sulfur dioxide','total sulfur dioxide','density','pH','sulphates','alcohol']]\n",
    "display(redwine_stoffen.mean())"
   ]
  },
  {
   "cell_type": "code",
   "execution_count": null,
   "metadata": {
    "scrolled": true
   },
   "outputs": [],
   "source": [
    "whitewine_stoffen = whitewine[['fixed acidity','volatile acidity','residual sugar','chlorides','free sulfur dioxide','total sulfur dioxide','density','pH','sulphates','alcohol']]\n",
    "display(whitewine_stoffen.mean())"
   ]
  },
  {
   "cell_type": "markdown",
   "metadata": {},
   "source": [
    "Hieruit kan je gelijk al opmaken waar de grootste verschillen zitten en welke waardes minder interesant zijn om naar te kijken. \n",
    "Alcohol en pH waarden lijken aardig gelijk te liggen als je alleen naar de gemiddelde zou kijken.\n",
    "Beide sulfur dioxides lijken meer uit elkaar te liggen en zal dan ook kenmerkender zijn voor een witte of rode wijn.\n",
    "\n",
    "### Correlatie\n",
    "\n",
    "We hebben al eerder de correlatie van alle data van de wijnen bekeken bij het onderzoeken van de stoffen zijn de correlaties ook belangerijk, bijvoordbeeld als er meer free sulfur dioxide in is, zal er dan ook meer total sulfur dioxides in de wijn zitten?"
   ]
  },
  {
   "cell_type": "code",
   "execution_count": null,
   "metadata": {
    "scrolled": false
   },
   "outputs": [],
   "source": [
    "redwine_stoffen.corr()"
   ]
  },
  {
   "cell_type": "code",
   "execution_count": null,
   "metadata": {},
   "outputs": [],
   "source": [
    "whitewine_stoffen.corr()"
   ]
  },
  {
   "cell_type": "markdown",
   "metadata": {},
   "source": [
    "Hierbij is de correlatie sterke hoever die van de 0 af ligt met als 1 en -1 een perfecte correlatie.\n",
    "0.1 - 0.3 is lage correlatie\n",
    "0.3 - 0.5 is matige correlatie\n",
    "0.5 - 1 is sterke correlatie\n",
    "\n",
    "Om de vraag van hiervoor te beantwoorde, ja als er meer free sulfur dioxide in de wijn zit is het meestal het geval dat er ook meer total sulfur dioxide in de wijn zit.\n",
    "\n",
    "De sterkste correlatie die we hebben in witte wijnen is residual sugar met density 0.84 dus hoe meer residual sugar des te meer density in de rode wijnen is dit veel minder het geval. waar de correlatie maar een 0.28 is.\n",
    "\n",
    "Dan is er nog een sterke relatie met density maar dan met alcohol negatief deze keer -0.78 dus hoe meer density des te lager de alcohol. dit is raar omdat dit helemaal niet het geval is bij rodewijn en is ook zeker interesant om naar te kijken.\n",
    "\n",
    "Zonder dan naar de tabel te kijken kunnen we voorspellen dat witte wijnen met meer residual sugar ook minder alcohol bevatten, en dat klopt die heeft een correlatie van -0.45\n",
    "\n",
    "### Verschillen per wijn\n",
    "\n",
    "In de verkenning was hierop al ingegaan, daar was goed te zien dat er altijd overlap is tussen rode en witte wijnen is.\n",
    "Bij density en residual sugar zien de histogrammer er niet zo mooi uit en daar gaan we eerst naar kijken.\n"
   ]
  },
  {
   "cell_type": "code",
   "execution_count": null,
   "metadata": {
    "scrolled": true
   },
   "outputs": [],
   "source": [
    "for column in whitewine_stoffen.columns.values:\n",
    "    plt.title(column)\n",
    "    plt.hist(redwine_stoffen[column], color=\"#ff335577\")\n",
    "    plt.hist(whitewine_stoffen[column], color=\"#ffff3377\")\n",
    "    plt.show()"
   ]
  },
  {
   "cell_type": "markdown",
   "metadata": {},
   "source": [
    "### Combinatie van stoffen verschillen per wijn\n",
    "Door 2 stoffen te pakken die iets anders bij rode en witte wijnen liggen kunnen we misschien iets interesants ontdekken dat meer inzicht geeft van chemische kenmerken per wijn.\n",
    "Om wat inzicht te krijgen pakken we wat combinaties die interesant lijken. We hadden al gezien dat residual sugar en density heel verschillende correlaties hadden per wijn."
   ]
  },
  {
   "cell_type": "code",
   "execution_count": null,
   "metadata": {},
   "outputs": [],
   "source": [
    "redwinehv = hv.Points(redwine_stoffen, label='redwine', kdims=['residual sugar', 'density'])\n",
    "whitewinehv = hv.Points(whitewine_stoffen, label='whitewine', kdims=['residual sugar', 'density'])\n",
    "redwinehv.hist(num_bins=100, dimension=['residual sugar', 'density']) + whitewinehv.hist(num_bins=100, dimension=['residual sugar', 'density'])\n"
   ]
  },
  {
   "cell_type": "markdown",
   "metadata": {},
   "source": [
    "je kan al gelijk zien dat er iets mis is met de waardes van deze datapunten. Deze zullen dus ook worden eruit gefilterd door alle records met density boven de 2 weg te halen en alle records boven de 40 van residual sugar weg te halen"
   ]
  },
  {
   "cell_type": "code",
   "execution_count": null,
   "metadata": {},
   "outputs": [],
   "source": [
    "\n",
    "print(\"redwine lengte voor de removal: \" + str(len(redwine_stoffen)))\n",
    "print(\"whitewine lengte voor de removal: \" + str(len(whitewine_stoffen)))\n",
    "redwine_stoffen = redwine_stoffen[redwine_stoffen['density'] < 2]\n",
    "whitewine_stoffen = whitewine_stoffen[whitewine_stoffen['density'] < 2]\n",
    "redwine_stoffen = redwine_stoffen[redwine_stoffen['residual sugar'] < 40]\n",
    "whitewine_stoffen = whitewine_stoffen[whitewine_stoffen['residual sugar'] < 40]\n",
    "print(\"redwine lengte na de removal: \" + str(len(redwine_stoffen)))\n",
    "print(\"whitewine lengte na de removal: \" + str(len(whitewine_stoffen)))"
   ]
  },
  {
   "cell_type": "code",
   "execution_count": null,
   "metadata": {},
   "outputs": [],
   "source": [
    "redwinehv = hv.Points(redwine_stoffen, label='redwine', kdims=['residual sugar', 'density'])\n",
    "whitewinehv = hv.Points(whitewine_stoffen, label='whitewine', kdims=['residual sugar', 'density'])\n",
    "redwinehv.hist(num_bins=100, dimension=['residual sugar', 'density']) + whitewinehv.hist(num_bins=100, dimension=['residual sugar', 'density'])"
   ]
  },
  {
   "cell_type": "markdown",
   "metadata": {},
   "source": [
    "Deze scatterplots zien er een stuk beter uit. De density bij rodewijnen ligt gemiddeld iets hoger en de residual sugar bij wittewijnen strekt veel hoger. witte wijn heeft een prachtige correlatie terwijl bij rode wijn die bijna niet terug is te vinden.\n",
    "\n",
    "Om even terug te koppelen naar de correlatie van density en residual sugar, het kan zijn dat de outliers de correlatie hebben beinvloed en dat die daarom zo uit elkaar lagen voorheen, we zullen nog even snel die correlatie bekijken "
   ]
  },
  {
   "cell_type": "code",
   "execution_count": null,
   "metadata": {},
   "outputs": [],
   "source": [
    "redwine_stoffen.corr()"
   ]
  },
  {
   "cell_type": "code",
   "execution_count": null,
   "metadata": {},
   "outputs": [],
   "source": [
    "whitewine_stoffen.corr()"
   ]
  },
  {
   "cell_type": "markdown",
   "metadata": {},
   "source": [
    "rood : 0.284803 --> 0.261818\n",
    "wit  : 0.838966 --> 0.833969\n",
    "\n",
    "de outliers hebben weinig tot geen verschil gemaakt in de correlatie van density en residual sugar, dit zou ook niet moeten want de correlatie gaat over alle record en er zijn er maar een paar verwijderd. Je kan de correlatie ook goed terugzien in de scatterplots, bij whitewine hoe hoger de density hoe hoger de residual sugar. Maar bij redwine zit het allemaal een beetje op dezelfde residual sugar en is de correlatie dus laag."
   ]
  },
  {
   "cell_type": "code",
   "execution_count": null,
   "metadata": {},
   "outputs": [],
   "source": [
    "redwinehv = hv.Points(redwine_stoffen, label='redwine', kdims=['total sulfur dioxide','free sulfur dioxide'])\n",
    "whitewinehv = hv.Points(whitewine_stoffen, label='whitewine', kdims=['total sulfur dioxide','free sulfur dioxide'])\n",
    "redwinehv.hist(num_bins=100, dimension=['total sulfur dioxide','free sulfur dioxide']) + whitewinehv.hist(num_bins=100, dimension=['total sulfur dioxide','free sulfur dioxide'])\n",
    "\n"
   ]
  },
  {
   "cell_type": "markdown",
   "metadata": {},
   "source": [
    "Deze hebben allebij een correlatie van 0.6 dus er is sprake van middelmatige correlatie ,hier valt op dat de verdeling hetzelfde is, maar de hoeveelheid hoger is in witte wijnen en dat er nog enkele uitschieters zijn bij rodewijn."
   ]
  },
  {
   "cell_type": "code",
   "execution_count": null,
   "metadata": {},
   "outputs": [],
   "source": [
    "redwinehv = hv.Points(redwine_stoffen, label='redwine', kdims=['total sulfur dioxide','fixed acidity'])\n",
    "whitewinehv = hv.Points(whitewine_stoffen, label='whitewine', kdims=['total sulfur dioxide','fixed acidity'])\n",
    "redwinehv.hist(num_bins=100, dimension=['total sulfur dioxide','fixed acidity']) + whitewinehv.hist(num_bins=100, dimension=['total sulfur dioxide','fixed acidity'])"
   ]
  },
  {
   "cell_type": "markdown",
   "metadata": {},
   "source": [
    "hier valt op dat de fixed acidity een veel grotere spreiding heeft bij rode wijn dan bij wittewijn, en dat total sulfur dioxide hoger begint en eindigt bij witte wijn."
   ]
  },
  {
   "cell_type": "code",
   "execution_count": null,
   "metadata": {},
   "outputs": [],
   "source": [
    "redwinehv = hv.Points(redwine_stoffen, label='redwine', kdims=['volatile acidity','fixed acidity'])\n",
    "whitewinehv = hv.Points(whitewine_stoffen, label='whitewine', kdims=['volatile acidity','fixed acidity'])\n",
    "redwinehv.hist(num_bins=100, dimension=['volatile acidity','fixed acidity']) + whitewinehv.hist(num_bins=100, dimension=['volatile acidity','fixed acidity'])\n",
    "\n"
   ]
  },
  {
   "cell_type": "markdown",
   "metadata": {},
   "source": [
    "de wolk is bij redwine veel gespreider, bij allebei de stoffen is dit het geval terwijl bij wittewijn een dense wolk wordt gevormt."
   ]
  },
  {
   "cell_type": "code",
   "execution_count": null,
   "metadata": {},
   "outputs": [],
   "source": [
    "redwinehv = hv.Points(redwine_stoffen, label='redwine', kdims=['alcohol','pH'])\n",
    "whitewinehv = hv.Points(whitewine_stoffen, label='whitewine', kdims=['alcohol','pH'])\n",
    "redwinehv.hist(num_bins=100, dimension=['alcohol','pH']) + whitewinehv.hist(num_bins=100, dimension=['alcohol','pH'])"
   ]
  },
  {
   "cell_type": "markdown",
   "metadata": {},
   "source": [
    "deze twee stoffen zijn bijna precies gelijk aan elkaar, je zou kunnen zeggen dat wittewijnen een iets grotere wolk heeft maar dit kan goed komen omdat witte wijnen gewoon 2 keer zoveel records heeft en daarom iets groter lijkt."
   ]
  },
  {
   "cell_type": "code",
   "execution_count": null,
   "metadata": {},
   "outputs": [],
   "source": [
    "redwinehv = hv.Points(redwine_stoffen, label='redwine', kdims=['fixed acidity','sulphates'])\n",
    "whitewinehv = hv.Points(whitewine_stoffen, label='whitewine', kdims=['fixed acidity','sulphates'])\n",
    "redwinehv.hist(num_bins=100, dimension=['fixed acidity','sulphates']) + whitewinehv.hist(num_bins=100, dimension=['fixed acidity','sulphates'])\n"
   ]
  },
  {
   "cell_type": "markdown",
   "metadata": {},
   "source": [
    "bij de rodewijn ligt de fixed acidity meer uit elkaar. de sulphates zien er meer of minder hetzelfde uit maar de rodewijn heeft iets meer uitschieters."
   ]
  },
  {
   "cell_type": "code",
   "execution_count": null,
   "metadata": {},
   "outputs": [],
   "source": [
    "redwinehv = hv.Points(redwine_stoffen, label='redwine', kdims=['residual sugar', 'alcohol'])\n",
    "whitewinehv = hv.Points(whitewine_stoffen, label='whitewine', kdims=['residual sugar', 'alcohol'])\n",
    "redwinehv.hist(num_bins=100, dimension=['residual sugar', 'alcohol']) + whitewinehv.hist(num_bins=100, dimension=['residual sugar', 'alcohol'])\n"
   ]
  },
  {
   "cell_type": "markdown",
   "metadata": {},
   "source": [
    "niets heel interesants te vinden, alcohol is redelijk gelijk verdeelt terwijl residual sugar in de wittewijnen hoger is, wat al eerder geconstateerd was.\n"
   ]
  },
  {
   "cell_type": "code",
   "execution_count": null,
   "metadata": {},
   "outputs": [],
   "source": [
    "redwinehv = hv.Points(redwine_stoffen, label='redwine', kdims=['density', 'alcohol'])\n",
    "whitewinehv = hv.Points(whitewine_stoffen, label='whitewine', kdims=['density', 'alcohol'])\n",
    "redwinehv.hist(num_bins=100, dimension=['density', 'alcohol']) + whitewinehv.hist(num_bins=100, dimension=['density', 'alcohol'])\n"
   ]
  },
  {
   "cell_type": "markdown",
   "metadata": {},
   "source": [
    "Hier valt een sterke negatieve correlatie te ontdekken bij wittewijn is die iets sterker dan bij rode wijn, dus hoe hoger de density hoe lager de alcohol.\n",
    "\n",
    "### Beschrijven van elke stof\n",
    "Hieronder kan je de aantal recors, gemiddelde, standaarddeviatie, minimum en maximum zien van elke stof. Dit zal de eerdere vindingen ondersteunen en helpen een conclusie te trekken bij deze vraag."
   ]
  },
  {
   "cell_type": "code",
   "execution_count": null,
   "metadata": {},
   "outputs": [],
   "source": [
    "redwine_stoffen.describe(include=\"all\")"
   ]
  },
  {
   "cell_type": "code",
   "execution_count": null,
   "metadata": {},
   "outputs": [],
   "source": [
    "whitewine_stoffen.describe(include=\"all\")"
   ]
  },
  {
   "cell_type": "markdown",
   "metadata": {},
   "source": [
    "### Conclusie \n",
    "De conclusie is dat je niet altijd aan de stoffen kan zien of het een witte of rodewijn is, bij elke stof is er overlap zodanig dat het niet geheel kenmerkend is voor rood of witte wijn. Wel kan het zijn dat als een wijn bijvoorbeeld een hoge residual sugar heeft( bijv. 20+) dat het een witte wijn is.\n",
    "\n",
    "Er zijn dus kenmerkende waardes van stoffen voor een specifieke wijn, maar niet een definitief antwoord voor elke mogelijke nieuwe wijn."
   ]
  },
  {
   "cell_type": "markdown",
   "metadata": {},
   "source": [
    "# Hypothese vraag\n",
    "\n",
    "Ook is er vanuit de casus een hypothese mee gegeven welke behandeld zal worden. Deze is als volgt:\n",
    "\n",
    "\"In het afgelopen jaar was het bijzonder zonnig in Portugal. De verbouwers van wijn vragen zich af of dit de zuurgraad (pH) van heeft beïnvloed, met andere woorden: of de wijnen uit het afgelopen jaar een andere pH hebben dan. Ze doen daarom een steekproef en meten de zuurgraad in enkele rode wijnen van afgelopen jaar. Daar komen de volgende meetwaarden uit:\n",
    "\n",
    "| Wijn | Suikergehalte |\n",
    "|---|---|\n",
    "| Casa Santa Vitória | 3.41 |\n",
    "| Monte da Penha | 3.51 |\n",
    "| Real Companhia Velha | 3.39 |\n",
    "| Aveleda | 3.11 |\n",
    "| Companhia das Quintas | 3.21 |\n",
    "| J. Portugal Ramos | 3.50 |\n",
    "| Sogrape | 3.46 |\n",
    "| Casa Santos Lima | 3.37 |\n",
    "| Quinta de Ventozelo | 3.71 |\n",
    "\n",
    "Bepaal of deze wijnen een significant andere zuurgraad hebben dan gemiddeld. Kies als betrouwbaarheid 95%.\""
   ]
  },
  {
   "cell_type": "markdown",
   "metadata": {},
   "source": [
    "### Hypotheses\n",
    "\n",
    "Uitgaande van bovenstaande informatie kunnen we dus twee hypothese vragen opstellen. Een 0 vraag en een A vraag, zie onderstaande:\n",
    "\n",
    "H<sub>0</sub>: De wijnen hebben geen significant andere zuurgraad dan gemiddeld. ($\\mu_{andere wijnen} == \\mu_{nieuwe wijnen}$)\n",
    "\n",
    "H<sub>a</sub>: De wijnen hebben wel een significant andere zuurgraad dan gemiddeld.  ($\\mu_{andere wijnen} ≠ \\mu_{nieuwe wijnen}$)"
   ]
  },
  {
   "cell_type": "markdown",
   "metadata": {},
   "source": [
    "Om deze hypothese te kunnen bewijzen danwel ontkrachten zetten we onderstaande gegevens op een rijtje:\n",
    "    \n",
    "α = 5%  \n",
    "𝜇 = ?  \n",
    "Toetsing = Tweezijdig  \n",
    "x̄ = ?  \n",
    "se = ?  "
   ]
  },
  {
   "cell_type": "markdown",
   "metadata": {},
   "source": [
    "Om deze te kunnen uitvoeren moeten we het gemiddelde van de oude wijnen weten om zo 𝜇 te kunnen bepalen."
   ]
  },
  {
   "cell_type": "code",
   "execution_count": null,
   "metadata": {},
   "outputs": [],
   "source": [
    "display('Waarde rode wijnen')\n",
    "display(np.mean(redwine.pH))\n",
    "display('Waarde nieuwe wijnen:')\n",
    "\n",
    "newWines = pd.DataFrame([3.41, 3.51, 3.39, 3.11, 3.21, 3.50, 3.46, 3.37, 3.71])\n",
    "display(np.mean(newWines))"
   ]
  },
  {
   "cell_type": "markdown",
   "metadata": {},
   "source": [
    "Nu is het dus als volgt:  \n",
    "α = 5% (ook wel 1.96 of 95%) \n",
    "𝜇 = 3.32  \n",
    "Toetsing = Tweezijdig  \n",
    "x̄ = 3.41  \n",
    "se = ?  \n",
    "\n",
    "Nu is het dus nog zaak om de standaardafwijking te bepalen:  "
   ]
  },
  {
   "cell_type": "code",
   "execution_count": null,
   "metadata": {},
   "outputs": [],
   "source": [
    "redwine.std()"
   ]
  },
  {
   "cell_type": "markdown",
   "metadata": {},
   "source": [
    "### Conclusie Hypotheses\n",
    "Bovenstaande geeft aan dat de standaardafwijking 0.17 bedraagt op de pH waardes.\n",
    "Dit betekent dat om binnen de aangegeven 95% te vallen de nieuwe wijnen gemiddeld buiten het bereik van 3.32 - (1.96*0.17 = 0.33) = 2.99 en 3.32+0.33 = 3.65.\n",
    "Dus in totaal buiten het bereik van 2.99-3.65, aangezien de gemiddelde waarde op dit moment 3.41 is betekent dit dat H<sub>0</sub> geaccepteerd word en H<sub>a</sub> verworpen word."
   ]
  },
  {
   "cell_type": "code",
   "execution_count": null,
   "metadata": {},
   "outputs": [],
   "source": []
  }
 ],
 "metadata": {
  "kernelspec": {
   "display_name": "Python 3",
   "language": "python",
   "name": "python3"
  },
  "language_info": {
   "codemirror_mode": {
    "name": "ipython",
    "version": 3
   },
   "file_extension": ".py",
   "mimetype": "text/x-python",
   "name": "python",
   "nbconvert_exporter": "python",
   "pygments_lexer": "ipython3",
   "version": "3.7.1"
  }
 },
 "nbformat": 4,
 "nbformat_minor": 2
}
