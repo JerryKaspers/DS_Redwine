{
 "cells": [
  {
   "cell_type": "markdown",
   "metadata": {},
   "source": [
    "# Rode wijn in Portugal\n",
    "\n",
    "Voor de Data Science casusopdracht heeft onze groep de rode wijn data set als onderzoekopdracht. In het eerste gedeelte van dit document zal er een een verkenning van de data plaatsvinden, waardoor er gerichte en interessante onderzoeksvragen opgesteld kunnen worden.\n",
    "\n",
    "## Verkenning\n",
    "\n",
    "Als eerste stap van de verkenning zal er onderzoek gedaan worden naar de huidige velden en de mogelijke verbeteringen aan de data set."
   ]
  },
  {
   "cell_type": "code",
   "execution_count": 25,
   "metadata": {},
   "outputs": [],
   "source": [
    "import numpy as np\n",
    "import pandas as pd\n",
    "import matplotlib.pyplot as plt\n",
    "import seaborn as sns"
   ]
  },
  {
   "cell_type": "code",
   "execution_count": 2,
   "metadata": {
    "collapsed": true
   },
   "outputs": [
    {
     "data": {
      "text/html": [
       "<div>\n",
       "<style scoped>\n",
       "    .dataframe tbody tr th:only-of-type {\n",
       "        vertical-align: middle;\n",
       "    }\n",
       "\n",
       "    .dataframe tbody tr th {\n",
       "        vertical-align: top;\n",
       "    }\n",
       "\n",
       "    .dataframe thead th {\n",
       "        text-align: right;\n",
       "    }\n",
       "</style>\n",
       "<table border=\"1\" class=\"dataframe\">\n",
       "  <thead>\n",
       "    <tr style=\"text-align: right;\">\n",
       "      <th></th>\n",
       "      <th>id</th>\n",
       "      <th>country</th>\n",
       "      <th>description</th>\n",
       "      <th>designation</th>\n",
       "      <th>points</th>\n",
       "      <th>price</th>\n",
       "      <th>province</th>\n",
       "      <th>taster_name</th>\n",
       "      <th>title</th>\n",
       "      <th>variety</th>\n",
       "      <th>...</th>\n",
       "      <th>volatile acidity</th>\n",
       "      <th>citric acid</th>\n",
       "      <th>residual sugar</th>\n",
       "      <th>chlorides</th>\n",
       "      <th>free sulfur dioxide</th>\n",
       "      <th>total sulfur dioxide</th>\n",
       "      <th>density</th>\n",
       "      <th>pH</th>\n",
       "      <th>sulphates</th>\n",
       "      <th>alcohol</th>\n",
       "    </tr>\n",
       "  </thead>\n",
       "  <tbody>\n",
       "    <tr>\n",
       "      <th>0</th>\n",
       "      <td>1</td>\n",
       "      <td>Portugal</td>\n",
       "      <td>This is ripe and fruity, a wine that is smooth...</td>\n",
       "      <td>Avidagos</td>\n",
       "      <td>87</td>\n",
       "      <td>15.0</td>\n",
       "      <td>Douro</td>\n",
       "      <td>Kerin OKeefe</td>\n",
       "      <td>Quinta dos Avidagos 2011 Avidagos Red (Douro)</td>\n",
       "      <td>Portuguese Red</td>\n",
       "      <td>...</td>\n",
       "      <td>0.29</td>\n",
       "      <td>0.4</td>\n",
       "      <td>2.9</td>\n",
       "      <td>0.098</td>\n",
       "      <td>10.0</td>\n",
       "      <td>26.0</td>\n",
       "      <td>10.006</td>\n",
       "      <td>3.48</td>\n",
       "      <td>0.91</td>\n",
       "      <td>9.7</td>\n",
       "    </tr>\n",
       "    <tr>\n",
       "      <th>1</th>\n",
       "      <td>2</td>\n",
       "      <td>Portugal</td>\n",
       "      <td>From an estate in the south of the Alentejo, t...</td>\n",
       "      <td>Grande Reserva Tinto</td>\n",
       "      <td>91</td>\n",
       "      <td>26.0</td>\n",
       "      <td>Alentejano</td>\n",
       "      <td>Roger Voss</td>\n",
       "      <td>Casa Santa Vitória 2013 Grande Reserva Tinto R...</td>\n",
       "      <td>Portuguese Red</td>\n",
       "      <td>...</td>\n",
       "      <td>0.26</td>\n",
       "      <td>0.37</td>\n",
       "      <td>1.4</td>\n",
       "      <td>0.076</td>\n",
       "      <td>8.0</td>\n",
       "      <td>23.0</td>\n",
       "      <td>0.9974</td>\n",
       "      <td>3.26</td>\n",
       "      <td>0.70</td>\n",
       "      <td>9.6</td>\n",
       "    </tr>\n",
       "    <tr>\n",
       "      <th>2</th>\n",
       "      <td>3</td>\n",
       "      <td>Portugal</td>\n",
       "      <td>A year in wood and 30 months in bottle before ...</td>\n",
       "      <td>Montes Claros Garrafeira</td>\n",
       "      <td>90</td>\n",
       "      <td>28.0</td>\n",
       "      <td>Alentejo</td>\n",
       "      <td>Paul Gregutt</td>\n",
       "      <td>Adega Cooperativa de Borba 2012 Montes Claros ...</td>\n",
       "      <td>Portuguese Red</td>\n",
       "      <td>...</td>\n",
       "      <td>0.69</td>\n",
       "      <td>0.07</td>\n",
       "      <td>2.5</td>\n",
       "      <td>0.091</td>\n",
       "      <td>15.0</td>\n",
       "      <td>21.0</td>\n",
       "      <td>0.99572</td>\n",
       "      <td>3.38</td>\n",
       "      <td>0.60</td>\n",
       "      <td>11.3</td>\n",
       "    </tr>\n",
       "    <tr>\n",
       "      <th>3</th>\n",
       "      <td>4</td>\n",
       "      <td>Portugal</td>\n",
       "      <td>Wood aging gives this ripe blend of Baga and T...</td>\n",
       "      <td>NaN</td>\n",
       "      <td>90</td>\n",
       "      <td>20.0</td>\n",
       "      <td>Beira Atlantico</td>\n",
       "      <td>Alexander Peartree</td>\n",
       "      <td>Quinta de Foz de Arouce 2013 Red (Beira Atlant...</td>\n",
       "      <td>Portuguese Red</td>\n",
       "      <td>...</td>\n",
       "      <td>0.69</td>\n",
       "      <td>0.07</td>\n",
       "      <td>2.5</td>\n",
       "      <td>0.091</td>\n",
       "      <td>15.0</td>\n",
       "      <td>21.0</td>\n",
       "      <td>0.99572</td>\n",
       "      <td>3.38</td>\n",
       "      <td>0.60</td>\n",
       "      <td>11.3</td>\n",
       "    </tr>\n",
       "    <tr>\n",
       "      <th>4</th>\n",
       "      <td>5</td>\n",
       "      <td>Portugal</td>\n",
       "      <td>A powerful wine, richly structured and full of...</td>\n",
       "      <td>Gerações Colheita Seleccionada</td>\n",
       "      <td>92</td>\n",
       "      <td>34.0</td>\n",
       "      <td>Alentejano</td>\n",
       "      <td>Paul Gregutt</td>\n",
       "      <td>Herdade Grande 2010 Gerações Colheita Seleccio...</td>\n",
       "      <td>Portuguese Red</td>\n",
       "      <td>...</td>\n",
       "      <td>0.48</td>\n",
       "      <td>0.34</td>\n",
       "      <td>2.2</td>\n",
       "      <td>0.073</td>\n",
       "      <td>16.0</td>\n",
       "      <td>25.0</td>\n",
       "      <td>0.9936</td>\n",
       "      <td>3.28</td>\n",
       "      <td>0.66</td>\n",
       "      <td>12.4</td>\n",
       "    </tr>\n",
       "  </tbody>\n",
       "</table>\n",
       "<p>5 rows × 22 columns</p>\n",
       "</div>"
      ],
      "text/plain": [
       "   id   country                                        description  \\\n",
       "0   1  Portugal  This is ripe and fruity, a wine that is smooth...   \n",
       "1   2  Portugal  From an estate in the south of the Alentejo, t...   \n",
       "2   3  Portugal  A year in wood and 30 months in bottle before ...   \n",
       "3   4  Portugal  Wood aging gives this ripe blend of Baga and T...   \n",
       "4   5  Portugal  A powerful wine, richly structured and full of...   \n",
       "\n",
       "                      designation  points  price         province  \\\n",
       "0                        Avidagos      87   15.0            Douro   \n",
       "1            Grande Reserva Tinto      91   26.0       Alentejano   \n",
       "2        Montes Claros Garrafeira      90   28.0         Alentejo   \n",
       "3                             NaN      90   20.0  Beira Atlantico   \n",
       "4  Gerações Colheita Seleccionada      92   34.0       Alentejano   \n",
       "\n",
       "          taster_name                                              title  \\\n",
       "0       Kerin OKeefe      Quinta dos Avidagos 2011 Avidagos Red (Douro)   \n",
       "1          Roger Voss  Casa Santa Vitória 2013 Grande Reserva Tinto R...   \n",
       "2        Paul Gregutt  Adega Cooperativa de Borba 2012 Montes Claros ...   \n",
       "3  Alexander Peartree  Quinta de Foz de Arouce 2013 Red (Beira Atlant...   \n",
       "4        Paul Gregutt  Herdade Grande 2010 Gerações Colheita Seleccio...   \n",
       "\n",
       "          variety   ...    volatile acidity  citric acid  residual sugar  \\\n",
       "0  Portuguese Red   ...                0.29          0.4             2.9   \n",
       "1  Portuguese Red   ...                0.26         0.37             1.4   \n",
       "2  Portuguese Red   ...                0.69         0.07             2.5   \n",
       "3  Portuguese Red   ...                0.69         0.07             2.5   \n",
       "4  Portuguese Red   ...                0.48         0.34             2.2   \n",
       "\n",
       "  chlorides  free sulfur dioxide  total sulfur dioxide  density    pH  \\\n",
       "0     0.098                 10.0                  26.0   10.006  3.48   \n",
       "1     0.076                  8.0                  23.0   0.9974  3.26   \n",
       "2     0.091                 15.0                  21.0  0.99572  3.38   \n",
       "3     0.091                 15.0                  21.0  0.99572  3.38   \n",
       "4     0.073                 16.0                  25.0   0.9936  3.28   \n",
       "\n",
       "  sulphates  alcohol  \n",
       "0      0.91      9.7  \n",
       "1      0.70      9.6  \n",
       "2      0.60     11.3  \n",
       "3      0.60     11.3  \n",
       "4      0.66     12.4  \n",
       "\n",
       "[5 rows x 22 columns]"
      ]
     },
     "execution_count": 2,
     "metadata": {},
     "output_type": "execute_result"
    }
   ],
   "source": [
    "redwine = pd.read_csv('redwine.csv', sep=';')\n",
    "redwine.head()"
   ]
  },
  {
   "cell_type": "code",
   "execution_count": 3,
   "metadata": {},
   "outputs": [],
   "source": [
    "redwine.set_index('id', inplace=True)"
   ]
  },
  {
   "cell_type": "code",
   "execution_count": 4,
   "metadata": {
    "collapsed": true
   },
   "outputs": [
    {
     "data": {
      "text/plain": [
       "2465"
      ]
     },
     "execution_count": 4,
     "metadata": {},
     "output_type": "execute_result"
    }
   ],
   "source": [
    "# Eerst eens bekijken hoeveel records we op dit moment hebben\n",
    "len(redwine)"
   ]
  },
  {
   "cell_type": "code",
   "execution_count": 5,
   "metadata": {
    "collapsed": true
   },
   "outputs": [
    {
     "data": {
      "text/plain": [
       "2064"
      ]
     },
     "execution_count": 5,
     "metadata": {},
     "output_type": "execute_result"
    }
   ],
   "source": [
    "# Bekijken hoeveel records het scheelt met ontbrekende waardes\n",
    "len(redwine.dropna())"
   ]
  },
  {
   "cell_type": "markdown",
   "metadata": {},
   "source": [
    "Hier zit best een fors verschil tussen, waardoor er met meer detail naar de data gekeken moet worden.\n",
    "\n",
    "Daarnaast valt het ons op dat de country en variety velden allemaal gelijke data bevatten, waardoor deze irrelevant zijn."
   ]
  },
  {
   "cell_type": "code",
   "execution_count": 6,
   "metadata": {
    "collapsed": true
   },
   "outputs": [
    {
     "data": {
      "text/html": [
       "<div>\n",
       "<style scoped>\n",
       "    .dataframe tbody tr th:only-of-type {\n",
       "        vertical-align: middle;\n",
       "    }\n",
       "\n",
       "    .dataframe tbody tr th {\n",
       "        vertical-align: top;\n",
       "    }\n",
       "\n",
       "    .dataframe thead th {\n",
       "        text-align: right;\n",
       "    }\n",
       "</style>\n",
       "<table border=\"1\" class=\"dataframe\">\n",
       "  <thead>\n",
       "    <tr style=\"text-align: right;\">\n",
       "      <th></th>\n",
       "      <th>description</th>\n",
       "      <th>designation</th>\n",
       "      <th>points</th>\n",
       "      <th>price</th>\n",
       "      <th>province</th>\n",
       "      <th>taster_name</th>\n",
       "      <th>title</th>\n",
       "      <th>winery</th>\n",
       "      <th>fixed acidity</th>\n",
       "      <th>volatile acidity</th>\n",
       "      <th>citric acid</th>\n",
       "      <th>residual sugar</th>\n",
       "      <th>chlorides</th>\n",
       "      <th>free sulfur dioxide</th>\n",
       "      <th>total sulfur dioxide</th>\n",
       "      <th>density</th>\n",
       "      <th>pH</th>\n",
       "      <th>sulphates</th>\n",
       "      <th>alcohol</th>\n",
       "    </tr>\n",
       "    <tr>\n",
       "      <th>id</th>\n",
       "      <th></th>\n",
       "      <th></th>\n",
       "      <th></th>\n",
       "      <th></th>\n",
       "      <th></th>\n",
       "      <th></th>\n",
       "      <th></th>\n",
       "      <th></th>\n",
       "      <th></th>\n",
       "      <th></th>\n",
       "      <th></th>\n",
       "      <th></th>\n",
       "      <th></th>\n",
       "      <th></th>\n",
       "      <th></th>\n",
       "      <th></th>\n",
       "      <th></th>\n",
       "      <th></th>\n",
       "      <th></th>\n",
       "    </tr>\n",
       "  </thead>\n",
       "  <tbody>\n",
       "    <tr>\n",
       "      <th>1</th>\n",
       "      <td>This is ripe and fruity, a wine that is smooth...</td>\n",
       "      <td>Avidagos</td>\n",
       "      <td>87</td>\n",
       "      <td>15.0</td>\n",
       "      <td>Douro</td>\n",
       "      <td>Kerin OKeefe</td>\n",
       "      <td>Quinta dos Avidagos 2011 Avidagos Red (Douro)</td>\n",
       "      <td>Quinta dos Avidagos</td>\n",
       "      <td>10.0</td>\n",
       "      <td>0.29</td>\n",
       "      <td>0.4</td>\n",
       "      <td>2.9</td>\n",
       "      <td>0.098</td>\n",
       "      <td>10.0</td>\n",
       "      <td>26.0</td>\n",
       "      <td>10.006</td>\n",
       "      <td>3.48</td>\n",
       "      <td>0.91</td>\n",
       "      <td>9.7</td>\n",
       "    </tr>\n",
       "    <tr>\n",
       "      <th>2</th>\n",
       "      <td>From an estate in the south of the Alentejo, t...</td>\n",
       "      <td>Grande Reserva Tinto</td>\n",
       "      <td>91</td>\n",
       "      <td>26.0</td>\n",
       "      <td>Alentejano</td>\n",
       "      <td>Roger Voss</td>\n",
       "      <td>Casa Santa Vitória 2013 Grande Reserva Tinto R...</td>\n",
       "      <td>Casa Santa Vitória</td>\n",
       "      <td>8.3</td>\n",
       "      <td>0.26</td>\n",
       "      <td>0.37</td>\n",
       "      <td>1.4</td>\n",
       "      <td>0.076</td>\n",
       "      <td>8.0</td>\n",
       "      <td>23.0</td>\n",
       "      <td>0.9974</td>\n",
       "      <td>3.26</td>\n",
       "      <td>0.70</td>\n",
       "      <td>9.6</td>\n",
       "    </tr>\n",
       "    <tr>\n",
       "      <th>3</th>\n",
       "      <td>A year in wood and 30 months in bottle before ...</td>\n",
       "      <td>Montes Claros Garrafeira</td>\n",
       "      <td>90</td>\n",
       "      <td>28.0</td>\n",
       "      <td>Alentejo</td>\n",
       "      <td>Paul Gregutt</td>\n",
       "      <td>Adega Cooperativa de Borba 2012 Montes Claros ...</td>\n",
       "      <td>Adega Cooperativa de Borba</td>\n",
       "      <td>7.0</td>\n",
       "      <td>0.69</td>\n",
       "      <td>0.07</td>\n",
       "      <td>2.5</td>\n",
       "      <td>0.091</td>\n",
       "      <td>15.0</td>\n",
       "      <td>21.0</td>\n",
       "      <td>0.99572</td>\n",
       "      <td>3.38</td>\n",
       "      <td>0.60</td>\n",
       "      <td>11.3</td>\n",
       "    </tr>\n",
       "    <tr>\n",
       "      <th>4</th>\n",
       "      <td>Wood aging gives this ripe blend of Baga and T...</td>\n",
       "      <td>NaN</td>\n",
       "      <td>90</td>\n",
       "      <td>20.0</td>\n",
       "      <td>Beira Atlantico</td>\n",
       "      <td>Alexander Peartree</td>\n",
       "      <td>Quinta de Foz de Arouce 2013 Red (Beira Atlant...</td>\n",
       "      <td>Quinta de Foz de Arouce</td>\n",
       "      <td>7.0</td>\n",
       "      <td>0.69</td>\n",
       "      <td>0.07</td>\n",
       "      <td>2.5</td>\n",
       "      <td>0.091</td>\n",
       "      <td>15.0</td>\n",
       "      <td>21.0</td>\n",
       "      <td>0.99572</td>\n",
       "      <td>3.38</td>\n",
       "      <td>0.60</td>\n",
       "      <td>11.3</td>\n",
       "    </tr>\n",
       "    <tr>\n",
       "      <th>5</th>\n",
       "      <td>A powerful wine, richly structured and full of...</td>\n",
       "      <td>Gerações Colheita Seleccionada</td>\n",
       "      <td>92</td>\n",
       "      <td>34.0</td>\n",
       "      <td>Alentejano</td>\n",
       "      <td>Paul Gregutt</td>\n",
       "      <td>Herdade Grande 2010 Gerações Colheita Seleccio...</td>\n",
       "      <td>Herdade Grande</td>\n",
       "      <td>8.0</td>\n",
       "      <td>0.48</td>\n",
       "      <td>0.34</td>\n",
       "      <td>2.2</td>\n",
       "      <td>0.073</td>\n",
       "      <td>16.0</td>\n",
       "      <td>25.0</td>\n",
       "      <td>0.9936</td>\n",
       "      <td>3.28</td>\n",
       "      <td>0.66</td>\n",
       "      <td>12.4</td>\n",
       "    </tr>\n",
       "  </tbody>\n",
       "</table>\n",
       "</div>"
      ],
      "text/plain": [
       "                                          description  \\\n",
       "id                                                      \n",
       "1   This is ripe and fruity, a wine that is smooth...   \n",
       "2   From an estate in the south of the Alentejo, t...   \n",
       "3   A year in wood and 30 months in bottle before ...   \n",
       "4   Wood aging gives this ripe blend of Baga and T...   \n",
       "5   A powerful wine, richly structured and full of...   \n",
       "\n",
       "                       designation  points  price         province  \\\n",
       "id                                                                   \n",
       "1                         Avidagos      87   15.0            Douro   \n",
       "2             Grande Reserva Tinto      91   26.0       Alentejano   \n",
       "3         Montes Claros Garrafeira      90   28.0         Alentejo   \n",
       "4                              NaN      90   20.0  Beira Atlantico   \n",
       "5   Gerações Colheita Seleccionada      92   34.0       Alentejano   \n",
       "\n",
       "           taster_name                                              title  \\\n",
       "id                                                                          \n",
       "1        Kerin OKeefe      Quinta dos Avidagos 2011 Avidagos Red (Douro)   \n",
       "2           Roger Voss  Casa Santa Vitória 2013 Grande Reserva Tinto R...   \n",
       "3         Paul Gregutt  Adega Cooperativa de Borba 2012 Montes Claros ...   \n",
       "4   Alexander Peartree  Quinta de Foz de Arouce 2013 Red (Beira Atlant...   \n",
       "5         Paul Gregutt  Herdade Grande 2010 Gerações Colheita Seleccio...   \n",
       "\n",
       "                        winery  fixed acidity  volatile acidity citric acid  \\\n",
       "id                                                                            \n",
       "1          Quinta dos Avidagos           10.0              0.29         0.4   \n",
       "2           Casa Santa Vitória            8.3              0.26        0.37   \n",
       "3   Adega Cooperativa de Borba            7.0              0.69        0.07   \n",
       "4      Quinta de Foz de Arouce            7.0              0.69        0.07   \n",
       "5               Herdade Grande            8.0              0.48        0.34   \n",
       "\n",
       "    residual sugar  chlorides  free sulfur dioxide  total sulfur dioxide  \\\n",
       "id                                                                         \n",
       "1              2.9      0.098                 10.0                  26.0   \n",
       "2              1.4      0.076                  8.0                  23.0   \n",
       "3              2.5      0.091                 15.0                  21.0   \n",
       "4              2.5      0.091                 15.0                  21.0   \n",
       "5              2.2      0.073                 16.0                  25.0   \n",
       "\n",
       "    density    pH  sulphates alcohol  \n",
       "id                                    \n",
       "1    10.006  3.48       0.91     9.7  \n",
       "2    0.9974  3.26       0.70     9.6  \n",
       "3   0.99572  3.38       0.60    11.3  \n",
       "4   0.99572  3.38       0.60    11.3  \n",
       "5    0.9936  3.28       0.66    12.4  "
      ]
     },
     "execution_count": 6,
     "metadata": {},
     "output_type": "execute_result"
    }
   ],
   "source": [
    "redwine.drop(['country', 'variety'], axis=1, inplace=True)\n",
    "redwine.head()"
   ]
  },
  {
   "cell_type": "markdown",
   "metadata": {},
   "source": [
    "Hieronder tellen we het aantal rijen met missende data per kolom."
   ]
  },
  {
   "cell_type": "code",
   "execution_count": 28,
   "metadata": {},
   "outputs": [
    {
     "data": {
      "text/plain": [
       "description               0\n",
       "designation             153\n",
       "points                    0\n",
       "price                   269\n",
       "province                  0\n",
       "taster_name               0\n",
       "title                     0\n",
       "winery                    0\n",
       "fixed acidity             0\n",
       "volatile acidity          0\n",
       "citric acid               0\n",
       "residual sugar            0\n",
       "chlorides                 0\n",
       "free sulfur dioxide       0\n",
       "total sulfur dioxide      0\n",
       "density                   0\n",
       "pH                        0\n",
       "sulphates                 0\n",
       "alcohol                   0\n",
       "dtype: int64"
      ]
     },
     "execution_count": 28,
     "metadata": {},
     "output_type": "execute_result"
    }
   ],
   "source": [
    "redwine.isna().sum()"
   ]
  },
  {
   "cell_type": "markdown",
   "metadata": {},
   "source": [
    "Het valt op dat alle missende data voorkomt bij designation en price, echter zijn er ook een aantal kolommen die niet het goede type zijn. Deze zullen zeer waarschijnlijk dus ook data bevatten die niet als float gecast kan worden."
   ]
  },
  {
   "cell_type": "code",
   "execution_count": 29,
   "metadata": {},
   "outputs": [
    {
     "data": {
      "text/plain": [
       "description              object\n",
       "designation              object\n",
       "points                    int64\n",
       "price                   float64\n",
       "province                 object\n",
       "taster_name              object\n",
       "title                    object\n",
       "winery                   object\n",
       "fixed acidity           float64\n",
       "volatile acidity        float64\n",
       "citric acid              object\n",
       "residual sugar          float64\n",
       "chlorides               float64\n",
       "free sulfur dioxide     float64\n",
       "total sulfur dioxide    float64\n",
       "density                  object\n",
       "pH                      float64\n",
       "sulphates               float64\n",
       "alcohol                  object\n",
       "dtype: object"
      ]
     },
     "execution_count": 29,
     "metadata": {},
     "output_type": "execute_result"
    }
   ],
   "source": [
    "redwine.dtypes"
   ]
  },
  {
   "cell_type": "markdown",
   "metadata": {},
   "source": [
    "\n",
    "\n",
    "### Tweede dataset\n",
    "\n",
    "Als tweede dataset is er een set gepakt welke ook de zelfde chemische samenstellingen bevat als de huidige set, alleen is deze gericht op witte wijnen."
   ]
  },
  {
   "cell_type": "code",
   "execution_count": 27,
   "metadata": {},
   "outputs": [
    {
     "data": {
      "text/html": [
       "<div>\n",
       "<style scoped>\n",
       "    .dataframe tbody tr th:only-of-type {\n",
       "        vertical-align: middle;\n",
       "    }\n",
       "\n",
       "    .dataframe tbody tr th {\n",
       "        vertical-align: top;\n",
       "    }\n",
       "\n",
       "    .dataframe thead th {\n",
       "        text-align: right;\n",
       "    }\n",
       "</style>\n",
       "<table border=\"1\" class=\"dataframe\">\n",
       "  <thead>\n",
       "    <tr style=\"text-align: right;\">\n",
       "      <th></th>\n",
       "      <th>fixed acidity</th>\n",
       "      <th>volatile acidity</th>\n",
       "      <th>citric acid</th>\n",
       "      <th>residual sugar</th>\n",
       "      <th>chlorides</th>\n",
       "      <th>free sulfur dioxide</th>\n",
       "      <th>total sulfur dioxide</th>\n",
       "      <th>density</th>\n",
       "      <th>pH</th>\n",
       "      <th>sulphates</th>\n",
       "      <th>alcohol</th>\n",
       "      <th>quality</th>\n",
       "    </tr>\n",
       "  </thead>\n",
       "  <tbody>\n",
       "    <tr>\n",
       "      <th>0</th>\n",
       "      <td>7.0</td>\n",
       "      <td>0.27</td>\n",
       "      <td>0.36</td>\n",
       "      <td>20.7</td>\n",
       "      <td>0.045</td>\n",
       "      <td>45.0</td>\n",
       "      <td>170.0</td>\n",
       "      <td>1.0010</td>\n",
       "      <td>3.00</td>\n",
       "      <td>0.45</td>\n",
       "      <td>8.8</td>\n",
       "      <td>6</td>\n",
       "    </tr>\n",
       "    <tr>\n",
       "      <th>1</th>\n",
       "      <td>6.3</td>\n",
       "      <td>0.30</td>\n",
       "      <td>0.34</td>\n",
       "      <td>1.6</td>\n",
       "      <td>0.049</td>\n",
       "      <td>14.0</td>\n",
       "      <td>132.0</td>\n",
       "      <td>0.9940</td>\n",
       "      <td>3.30</td>\n",
       "      <td>0.49</td>\n",
       "      <td>9.5</td>\n",
       "      <td>6</td>\n",
       "    </tr>\n",
       "    <tr>\n",
       "      <th>2</th>\n",
       "      <td>8.1</td>\n",
       "      <td>0.28</td>\n",
       "      <td>0.40</td>\n",
       "      <td>6.9</td>\n",
       "      <td>0.050</td>\n",
       "      <td>30.0</td>\n",
       "      <td>97.0</td>\n",
       "      <td>0.9951</td>\n",
       "      <td>3.26</td>\n",
       "      <td>0.44</td>\n",
       "      <td>10.1</td>\n",
       "      <td>6</td>\n",
       "    </tr>\n",
       "    <tr>\n",
       "      <th>3</th>\n",
       "      <td>7.2</td>\n",
       "      <td>0.23</td>\n",
       "      <td>0.32</td>\n",
       "      <td>8.5</td>\n",
       "      <td>0.058</td>\n",
       "      <td>47.0</td>\n",
       "      <td>186.0</td>\n",
       "      <td>0.9956</td>\n",
       "      <td>3.19</td>\n",
       "      <td>0.40</td>\n",
       "      <td>9.9</td>\n",
       "      <td>6</td>\n",
       "    </tr>\n",
       "    <tr>\n",
       "      <th>4</th>\n",
       "      <td>7.2</td>\n",
       "      <td>0.23</td>\n",
       "      <td>0.32</td>\n",
       "      <td>8.5</td>\n",
       "      <td>0.058</td>\n",
       "      <td>47.0</td>\n",
       "      <td>186.0</td>\n",
       "      <td>0.9956</td>\n",
       "      <td>3.19</td>\n",
       "      <td>0.40</td>\n",
       "      <td>9.9</td>\n",
       "      <td>6</td>\n",
       "    </tr>\n",
       "  </tbody>\n",
       "</table>\n",
       "</div>"
      ],
      "text/plain": [
       "   fixed acidity  volatile acidity  citric acid  residual sugar  chlorides  \\\n",
       "0            7.0              0.27         0.36            20.7      0.045   \n",
       "1            6.3              0.30         0.34             1.6      0.049   \n",
       "2            8.1              0.28         0.40             6.9      0.050   \n",
       "3            7.2              0.23         0.32             8.5      0.058   \n",
       "4            7.2              0.23         0.32             8.5      0.058   \n",
       "\n",
       "   free sulfur dioxide  total sulfur dioxide  density    pH  sulphates  \\\n",
       "0                 45.0                 170.0   1.0010  3.00       0.45   \n",
       "1                 14.0                 132.0   0.9940  3.30       0.49   \n",
       "2                 30.0                  97.0   0.9951  3.26       0.44   \n",
       "3                 47.0                 186.0   0.9956  3.19       0.40   \n",
       "4                 47.0                 186.0   0.9956  3.19       0.40   \n",
       "\n",
       "   alcohol  quality  \n",
       "0      8.8        6  \n",
       "1      9.5        6  \n",
       "2     10.1        6  \n",
       "3      9.9        6  \n",
       "4      9.9        6  "
      ]
     },
     "execution_count": 27,
     "metadata": {},
     "output_type": "execute_result"
    }
   ],
   "source": [
    "whitewine = pd.read_csv('winequality-white.csv', sep=';')\n",
    "whitewine.head()"
   ]
  },
  {
   "cell_type": "markdown",
   "metadata": {},
   "source": [
    "In tegenstelling tot bij de rode wijn, is er niet veel informatie over de regio en naamgeving van de wijn beschikbaar. Daarnaast is het een kwaliteitscijfer en niet een waardering van een reviewer, waardoor de cijfers niet direct te vergelijken zijn.\n",
    "\n",
    "Bij de witte wijn set worden alle kolommen wel correct ingelezen:"
   ]
  },
  {
   "cell_type": "code",
   "execution_count": 23,
   "metadata": {
    "collapsed": true
   },
   "outputs": [
    {
     "data": {
      "text/plain": [
       "fixed acidity           float64\n",
       "volatile acidity        float64\n",
       "citric acid             float64\n",
       "residual sugar          float64\n",
       "chlorides               float64\n",
       "free sulfur dioxide     float64\n",
       "total sulfur dioxide    float64\n",
       "density                 float64\n",
       "pH                      float64\n",
       "sulphates               float64\n",
       "alcohol                 float64\n",
       "quality                   int64\n",
       "dtype: object"
      ]
     },
     "execution_count": 23,
     "metadata": {},
     "output_type": "execute_result"
    }
   ],
   "source": [
    "whitewine.dtypes"
   ]
  },
  {
   "cell_type": "markdown",
   "metadata": {},
   "source": [
    "### Histogrammen\n",
    "\n",
    "Om meer inzicht te krijgen in de verdelingen van de stoffen, is voor elke stof een histogram opegsteld. Ook voor de pH, quality en alcohol waardes zijn grafieken gemaakt."
   ]
  },
  {
   "cell_type": "code",
   "execution_count": 26,
   "metadata": {},
   "outputs": [
    {
     "data": {
      "image/png": "[encoded data removed]",
      "text/plain": [
       "<Figure size 432x288 with 1 Axes>"
      ]
     },
     "metadata": {},
     "output_type": "display_data"
    },
    {
     "data": {
      "image/png": "[encoded data removed]",
      "text/plain": [
       "<Figure size 432x288 with 1 Axes>"
      ]
     },
     "metadata": {},
     "output_type": "display_data"
    },
    {
     "data": {
      "image/png": "[encoded data removed]",
      "text/plain": [
       "<Figure size 432x288 with 1 Axes>"
      ]
     },
     "metadata": {},
     "output_type": "display_data"
    },
    {
     "data": {
      "image/png": "[encoded data removed]",
      "text/plain": [
       "<Figure size 432x288 with 1 Axes>"
      ]
     },
     "metadata": {},
     "output_type": "display_data"
    },
    {
     "data": {
      "image/png": "[encoded data removed]",
      "text/plain": [
       "<Figure size 432x288 with 1 Axes>"
      ]
     },
     "metadata": {},
     "output_type": "display_data"
    },
    {
     "data": {
      "image/png": "[encoded data removed]",
      "text/plain": [
       "<Figure size 432x288 with 1 Axes>"
      ]
     },
     "metadata": {},
     "output_type": "display_data"
    },
    {
     "data": {
      "image/png": "[encoded data removed]",
      "text/plain": [
       "<Figure size 432x288 with 1 Axes>"
      ]
     },
     "metadata": {},
     "output_type": "display_data"
    },
    {
     "data": {
      "image/png": "[encoded data removed]",
      "text/plain": [
       "<Figure size 432x288 with 1 Axes>"
      ]
     },
     "metadata": {},
     "output_type": "display_data"
    },
    {
     "data": {
      "image/png": "[encoded data removed]",
      "text/plain": [
       "<Figure size 432x288 with 1 Axes>"
      ]
     },
     "metadata": {},
     "output_type": "display_data"
    },
    {
     "data": {
      "image/png": "[encoded data removed]",
      "text/plain": [
       "<Figure size 432x288 with 1 Axes>"
      ]
     },
     "metadata": {},
     "output_type": "display_data"
    },
    {
     "data": {
      "image/png": "[encoded data removed]",
      "text/plain": [
       "<Figure size 432x288 with 1 Axes>"
      ]
     },
     "metadata": {},
     "output_type": "display_data"
    },
    {
     "data": {
      "image/png": "[encoded data removed]",
      "text/plain": [
       "<Figure size 432x288 with 1 Axes>"
      ]
     },
     "metadata": {},
     "output_type": "display_data"
    }
   ],
   "source": [
    "sns.set()\n",
    "for column in whitewine.columns.values:\n",
    "    plt.title(column)\n",
    "    if column in redwine:\n",
    "        if redwine[column].dtype != \"object\":\n",
    "            plt.hist(redwine[column], color=\"#ff335577\")\n",
    "    plt.hist(whitewine[column], color=\"#ffff3377\")\n",
    "    plt.show()"
   ]
  },
  {
   "cell_type": "markdown",
   "metadata": {},
   "source": [
    "## Onderzoeksvragen\n",
    "Een eis voor het voltooien van deze casus is het opstellen (en beantwoorden) van onderzoeksvragen. Hierbij moet er rekening gehouden worden met de data die is aangeleverd en moet er een combinatie gemaakt worden met een externe set van data.\n",
    "\n",
    "In het vorige gedeelte is een externe set verkend, welke betrekking heeft op witte wijnen in plaats van rode.\n",
    "\n",
    "Met deze twee datasets en alle gegevens erin zijn we tot de volgende onderzoeksvragen gekomen:\n",
    "\n",
    "-   Welke proefpersonen geven gemiddeld meer of minder punten voor een wijn en hoeveel is dit?\n",
    "-   Zijn er groepen te onderscheiden in de wijn op basis van de stoffen en de wijnmakerijen?\n",
    "-   In hoeverre is de score van een Portugese Red te voorspellen op basis van de chemische kenmerken?\n",
    "-   Wat zijn de verschillen in verhoudingen van de chemische kenmerken bij rode tov witte wijnen?\n"
   ]
  }
 ],
 "metadata": {
  "kernelspec": {
   "display_name": "Python 3",
   "language": "python",
   "name": "python3"
  },
  "language_info": {
   "codemirror_mode": {
    "name": "ipython",
    "version": 3
   },
   "file_extension": ".py",
   "mimetype": "text/x-python",
   "name": "python",
   "nbconvert_exporter": "python",
   "pygments_lexer": "ipython3",
   "version": "3.7.1"
  }
 },
 "nbformat": 4,
 "nbformat_minor": 2
}
